{
 "cells": [
  {
   "cell_type": "markdown",
   "metadata": {},
   "source": [
    "# <center> **Tugas Besar IF2220 Probabilitas dan Statistika<br>Penarikan Kesimpulan dan Pengujian Hipotesis** </center>\n",
    "***\n",
    "\n",
    "### **Anggota Kelompok (K-02):**\n",
    "1. Firizky Ardiansyah (13520095)\n",
    "2. Muhammad Fahmi Irfan (13520152) "
   ]
  },
  {
   "cell_type": "code",
   "execution_count": 39,
   "metadata": {},
   "outputs": [],
   "source": [
    "import pandas as pd\n",
    "import matplotlib.pyplot as plt\n",
    "import seaborn as sns\n",
    "from scipy.stats import *\n",
    "from math import *\n",
    "from IPython.display import Markdown, display"
   ]
  },
  {
   "cell_type": "markdown",
   "metadata": {},
   "source": [
    "***\n",
    "### **Data Water Potability**\n",
    "\n",
    "Diberikan sebuah data water_potability.csv yang dapat diakses pada utas berikut: __[Dataset Tugas Besar IF2220]([http://url](https://github.com/firizky29/probability-and-statistics-analysis/blob/main/data/water_potability.csv))__. water_potability.csv merupakan data metrik kualitas air yang\n",
    "mengandung 11 kolom sebagai berikut:\n",
    "1. id\n",
    "2. pH\n",
    "3. Hardness\n",
    "4. Solids\n",
    "5. Chloramines\n",
    "6. Sulfate\n",
    "7. Conductivity\n",
    "8. OrganicCarbon\n",
    "9. Trihalomethanes\n",
    "10. Turbidity\n",
    "11. Potability \n",
    "\n",
    "Kolom 2-10 adalah kolom atribut (non-target), sedangkan kolom 11 adalah kolom target."
   ]
  },
  {
   "cell_type": "code",
   "execution_count": 40,
   "metadata": {},
   "outputs": [
    {
     "data": {
      "text/html": [
       "<div>\n",
       "<style scoped>\n",
       "    .dataframe tbody tr th:only-of-type {\n",
       "        vertical-align: middle;\n",
       "    }\n",
       "\n",
       "    .dataframe tbody tr th {\n",
       "        vertical-align: top;\n",
       "    }\n",
       "\n",
       "    .dataframe thead th {\n",
       "        text-align: right;\n",
       "    }\n",
       "</style>\n",
       "<table border=\"1\" class=\"dataframe\">\n",
       "  <thead>\n",
       "    <tr style=\"text-align: right;\">\n",
       "      <th></th>\n",
       "      <th>id</th>\n",
       "      <th>pH</th>\n",
       "      <th>Hardness</th>\n",
       "      <th>Solids</th>\n",
       "      <th>Chloramines</th>\n",
       "      <th>Sulfate</th>\n",
       "      <th>Conductivity</th>\n",
       "      <th>Organic Carbon</th>\n",
       "      <th>Trihalomethanes</th>\n",
       "      <th>Turbidity</th>\n",
       "      <th>Potability</th>\n",
       "    </tr>\n",
       "  </thead>\n",
       "  <tbody>\n",
       "    <tr>\n",
       "      <th>0</th>\n",
       "      <td>1</td>\n",
       "      <td>8.316766</td>\n",
       "      <td>214.373394</td>\n",
       "      <td>22018.417441</td>\n",
       "      <td>8.059332</td>\n",
       "      <td>356.886136</td>\n",
       "      <td>363.266516</td>\n",
       "      <td>18.436524</td>\n",
       "      <td>100.341674</td>\n",
       "      <td>4.628771</td>\n",
       "      <td>0</td>\n",
       "    </tr>\n",
       "    <tr>\n",
       "      <th>1</th>\n",
       "      <td>2</td>\n",
       "      <td>9.092223</td>\n",
       "      <td>181.101509</td>\n",
       "      <td>17978.986339</td>\n",
       "      <td>6.546600</td>\n",
       "      <td>310.135738</td>\n",
       "      <td>398.410813</td>\n",
       "      <td>11.558279</td>\n",
       "      <td>31.997993</td>\n",
       "      <td>4.075075</td>\n",
       "      <td>0</td>\n",
       "    </tr>\n",
       "    <tr>\n",
       "      <th>2</th>\n",
       "      <td>3</td>\n",
       "      <td>5.584087</td>\n",
       "      <td>188.313324</td>\n",
       "      <td>28748.687739</td>\n",
       "      <td>7.544869</td>\n",
       "      <td>326.678363</td>\n",
       "      <td>280.467916</td>\n",
       "      <td>8.399735</td>\n",
       "      <td>54.917862</td>\n",
       "      <td>2.559708</td>\n",
       "      <td>0</td>\n",
       "    </tr>\n",
       "    <tr>\n",
       "      <th>3</th>\n",
       "      <td>4</td>\n",
       "      <td>10.223862</td>\n",
       "      <td>248.071735</td>\n",
       "      <td>28749.716544</td>\n",
       "      <td>7.513408</td>\n",
       "      <td>393.663396</td>\n",
       "      <td>283.651634</td>\n",
       "      <td>13.789695</td>\n",
       "      <td>84.603556</td>\n",
       "      <td>2.672989</td>\n",
       "      <td>0</td>\n",
       "    </tr>\n",
       "    <tr>\n",
       "      <th>4</th>\n",
       "      <td>5</td>\n",
       "      <td>8.635849</td>\n",
       "      <td>203.361523</td>\n",
       "      <td>13672.091764</td>\n",
       "      <td>4.563009</td>\n",
       "      <td>303.309771</td>\n",
       "      <td>474.607645</td>\n",
       "      <td>12.363817</td>\n",
       "      <td>62.798309</td>\n",
       "      <td>4.401425</td>\n",
       "      <td>0</td>\n",
       "    </tr>\n",
       "    <tr>\n",
       "      <th>...</th>\n",
       "      <td>...</td>\n",
       "      <td>...</td>\n",
       "      <td>...</td>\n",
       "      <td>...</td>\n",
       "      <td>...</td>\n",
       "      <td>...</td>\n",
       "      <td>...</td>\n",
       "      <td>...</td>\n",
       "      <td>...</td>\n",
       "      <td>...</td>\n",
       "      <td>...</td>\n",
       "    </tr>\n",
       "    <tr>\n",
       "      <th>2005</th>\n",
       "      <td>2006</td>\n",
       "      <td>8.197353</td>\n",
       "      <td>203.105091</td>\n",
       "      <td>27701.794055</td>\n",
       "      <td>6.472914</td>\n",
       "      <td>328.886838</td>\n",
       "      <td>444.612724</td>\n",
       "      <td>14.250875</td>\n",
       "      <td>62.906205</td>\n",
       "      <td>3.361833</td>\n",
       "      <td>1</td>\n",
       "    </tr>\n",
       "    <tr>\n",
       "      <th>2006</th>\n",
       "      <td>2007</td>\n",
       "      <td>8.989900</td>\n",
       "      <td>215.047358</td>\n",
       "      <td>15921.412018</td>\n",
       "      <td>6.297312</td>\n",
       "      <td>312.931022</td>\n",
       "      <td>390.410231</td>\n",
       "      <td>9.899115</td>\n",
       "      <td>55.069304</td>\n",
       "      <td>4.613843</td>\n",
       "      <td>1</td>\n",
       "    </tr>\n",
       "    <tr>\n",
       "      <th>2007</th>\n",
       "      <td>2008</td>\n",
       "      <td>6.702547</td>\n",
       "      <td>207.321086</td>\n",
       "      <td>17246.920347</td>\n",
       "      <td>7.708117</td>\n",
       "      <td>304.510230</td>\n",
       "      <td>329.266002</td>\n",
       "      <td>16.217303</td>\n",
       "      <td>28.878601</td>\n",
       "      <td>3.442983</td>\n",
       "      <td>1</td>\n",
       "    </tr>\n",
       "    <tr>\n",
       "      <th>2008</th>\n",
       "      <td>2009</td>\n",
       "      <td>11.491011</td>\n",
       "      <td>94.812545</td>\n",
       "      <td>37188.826022</td>\n",
       "      <td>9.263166</td>\n",
       "      <td>258.930600</td>\n",
       "      <td>439.893618</td>\n",
       "      <td>16.172755</td>\n",
       "      <td>41.558501</td>\n",
       "      <td>4.369264</td>\n",
       "      <td>1</td>\n",
       "    </tr>\n",
       "    <tr>\n",
       "      <th>2009</th>\n",
       "      <td>2010</td>\n",
       "      <td>6.069616</td>\n",
       "      <td>186.659040</td>\n",
       "      <td>26138.780191</td>\n",
       "      <td>7.747547</td>\n",
       "      <td>345.700257</td>\n",
       "      <td>415.886955</td>\n",
       "      <td>12.067620</td>\n",
       "      <td>60.419921</td>\n",
       "      <td>3.669712</td>\n",
       "      <td>1</td>\n",
       "    </tr>\n",
       "  </tbody>\n",
       "</table>\n",
       "<p>2010 rows × 11 columns</p>\n",
       "</div>"
      ],
      "text/plain": [
       "        id         pH    Hardness        Solids  Chloramines     Sulfate  \\\n",
       "0        1   8.316766  214.373394  22018.417441     8.059332  356.886136   \n",
       "1        2   9.092223  181.101509  17978.986339     6.546600  310.135738   \n",
       "2        3   5.584087  188.313324  28748.687739     7.544869  326.678363   \n",
       "3        4  10.223862  248.071735  28749.716544     7.513408  393.663396   \n",
       "4        5   8.635849  203.361523  13672.091764     4.563009  303.309771   \n",
       "...    ...        ...         ...           ...          ...         ...   \n",
       "2005  2006   8.197353  203.105091  27701.794055     6.472914  328.886838   \n",
       "2006  2007   8.989900  215.047358  15921.412018     6.297312  312.931022   \n",
       "2007  2008   6.702547  207.321086  17246.920347     7.708117  304.510230   \n",
       "2008  2009  11.491011   94.812545  37188.826022     9.263166  258.930600   \n",
       "2009  2010   6.069616  186.659040  26138.780191     7.747547  345.700257   \n",
       "\n",
       "      Conductivity  Organic Carbon  Trihalomethanes  Turbidity  Potability  \n",
       "0       363.266516       18.436524       100.341674   4.628771           0  \n",
       "1       398.410813       11.558279        31.997993   4.075075           0  \n",
       "2       280.467916        8.399735        54.917862   2.559708           0  \n",
       "3       283.651634       13.789695        84.603556   2.672989           0  \n",
       "4       474.607645       12.363817        62.798309   4.401425           0  \n",
       "...            ...             ...              ...        ...         ...  \n",
       "2005    444.612724       14.250875        62.906205   3.361833           1  \n",
       "2006    390.410231        9.899115        55.069304   4.613843           1  \n",
       "2007    329.266002       16.217303        28.878601   3.442983           1  \n",
       "2008    439.893618       16.172755        41.558501   4.369264           1  \n",
       "2009    415.886955       12.067620        60.419921   3.669712           1  \n",
       "\n",
       "[2010 rows x 11 columns]"
      ]
     },
     "execution_count": 40,
     "metadata": {},
     "output_type": "execute_result"
    }
   ],
   "source": [
    "column_name = ['id', 'pH', 'Hardness', 'Solids', 'Chloramines', 'Sulfate', 'Conductivity', 'Organic Carbon', \n",
    "'Trihalomethanes', 'Turbidity', 'Potability']\n",
    "\n",
    "data = pd.read_csv(\"../data/water_potability.csv\", names = column_name)\n",
    "df = pd.DataFrame(data)\n",
    "\n",
    "df"
   ]
  },
  {
   "cell_type": "markdown",
   "metadata": {},
   "source": [
    "> **Asumsi kolom numerik**: Kolom yang bertipe real maupun bilangan bulat. Kolom *id* dan kolom target yaitu *Potability* tidak dianalisis, kecuali disebutkan secara eksplisit dalam soal.\n",
    "\n",
    "\n",
    "***\n",
    "### **SOAL 1**\n",
    "Menulis deskripsi statistika (Descriptive Statistics) dari semua kolom pada data yang bersifat numerik, terdiri dari mean, median, modus, standar deviasi, variansi, range, nilai minimum, maksimum, kuartil, IQR, skewness dan kurtosis. Boleh juga ditambahkan deskripsi lain."
   ]
  },
  {
   "cell_type": "markdown",
   "metadata": {},
   "source": [
    "***\n",
    "#### **Deskripsi Umum**"
   ]
  },
  {
   "cell_type": "code",
   "execution_count": 41,
   "metadata": {},
   "outputs": [
    {
     "data": {
      "text/html": [
       "<div>\n",
       "<style scoped>\n",
       "    .dataframe tbody tr th:only-of-type {\n",
       "        vertical-align: middle;\n",
       "    }\n",
       "\n",
       "    .dataframe tbody tr th {\n",
       "        vertical-align: top;\n",
       "    }\n",
       "\n",
       "    .dataframe thead th {\n",
       "        text-align: right;\n",
       "    }\n",
       "</style>\n",
       "<table border=\"1\" class=\"dataframe\">\n",
       "  <thead>\n",
       "    <tr style=\"text-align: right;\">\n",
       "      <th></th>\n",
       "      <th>pH</th>\n",
       "      <th>Hardness</th>\n",
       "      <th>Solids</th>\n",
       "      <th>Chloramines</th>\n",
       "      <th>Sulfate</th>\n",
       "      <th>Conductivity</th>\n",
       "      <th>Organic Carbon</th>\n",
       "      <th>Trihalomethanes</th>\n",
       "      <th>Turbidity</th>\n",
       "    </tr>\n",
       "  </thead>\n",
       "  <tbody>\n",
       "    <tr>\n",
       "      <th>count</th>\n",
       "      <td>2010.000000</td>\n",
       "      <td>2010.000000</td>\n",
       "      <td>2.010000e+03</td>\n",
       "      <td>2010.000000</td>\n",
       "      <td>2010.000000</td>\n",
       "      <td>2010.000000</td>\n",
       "      <td>2010.000000</td>\n",
       "      <td>2010.000000</td>\n",
       "      <td>2010.000000</td>\n",
       "    </tr>\n",
       "    <tr>\n",
       "      <th>mean</th>\n",
       "      <td>7.087193</td>\n",
       "      <td>195.969209</td>\n",
       "      <td>2.190467e+04</td>\n",
       "      <td>7.134322</td>\n",
       "      <td>333.211376</td>\n",
       "      <td>426.476708</td>\n",
       "      <td>14.357940</td>\n",
       "      <td>66.400717</td>\n",
       "      <td>3.969497</td>\n",
       "    </tr>\n",
       "    <tr>\n",
       "      <th>std</th>\n",
       "      <td>1.572803</td>\n",
       "      <td>32.643166</td>\n",
       "      <td>8.625398e+03</td>\n",
       "      <td>1.585214</td>\n",
       "      <td>41.211111</td>\n",
       "      <td>80.701872</td>\n",
       "      <td>3.325770</td>\n",
       "      <td>16.081109</td>\n",
       "      <td>0.780471</td>\n",
       "    </tr>\n",
       "    <tr>\n",
       "      <th>min</th>\n",
       "      <td>0.227499</td>\n",
       "      <td>73.492234</td>\n",
       "      <td>3.209426e+02</td>\n",
       "      <td>1.390871</td>\n",
       "      <td>129.000000</td>\n",
       "      <td>201.619737</td>\n",
       "      <td>2.200000</td>\n",
       "      <td>8.577013</td>\n",
       "      <td>1.450000</td>\n",
       "    </tr>\n",
       "    <tr>\n",
       "      <th>25%</th>\n",
       "      <td>6.090785</td>\n",
       "      <td>176.740657</td>\n",
       "      <td>1.561441e+04</td>\n",
       "      <td>6.138326</td>\n",
       "      <td>307.626986</td>\n",
       "      <td>366.619219</td>\n",
       "      <td>12.122530</td>\n",
       "      <td>55.949993</td>\n",
       "      <td>3.442882</td>\n",
       "    </tr>\n",
       "    <tr>\n",
       "      <th>50%</th>\n",
       "      <td>7.029490</td>\n",
       "      <td>197.203525</td>\n",
       "      <td>2.092688e+04</td>\n",
       "      <td>7.142014</td>\n",
       "      <td>332.214113</td>\n",
       "      <td>423.438372</td>\n",
       "      <td>14.323286</td>\n",
       "      <td>66.482041</td>\n",
       "      <td>3.967374</td>\n",
       "    </tr>\n",
       "    <tr>\n",
       "      <th>75%</th>\n",
       "      <td>8.053006</td>\n",
       "      <td>216.447589</td>\n",
       "      <td>2.717053e+04</td>\n",
       "      <td>8.109933</td>\n",
       "      <td>359.268147</td>\n",
       "      <td>482.209772</td>\n",
       "      <td>16.683562</td>\n",
       "      <td>77.294613</td>\n",
       "      <td>4.514663</td>\n",
       "    </tr>\n",
       "    <tr>\n",
       "      <th>max</th>\n",
       "      <td>14.000000</td>\n",
       "      <td>317.338124</td>\n",
       "      <td>5.648867e+04</td>\n",
       "      <td>13.127000</td>\n",
       "      <td>481.030642</td>\n",
       "      <td>753.342620</td>\n",
       "      <td>27.006707</td>\n",
       "      <td>124.000000</td>\n",
       "      <td>6.494749</td>\n",
       "    </tr>\n",
       "    <tr>\n",
       "      <th>variance</th>\n",
       "      <td>2.473709</td>\n",
       "      <td>1065.576277</td>\n",
       "      <td>7.439749e+07</td>\n",
       "      <td>2.512904</td>\n",
       "      <td>1698.355672</td>\n",
       "      <td>6512.792113</td>\n",
       "      <td>11.060746</td>\n",
       "      <td>258.602066</td>\n",
       "      <td>0.609135</td>\n",
       "    </tr>\n",
       "    <tr>\n",
       "      <th>range</th>\n",
       "      <td>13.772501</td>\n",
       "      <td>243.845890</td>\n",
       "      <td>5.616773e+04</td>\n",
       "      <td>11.736129</td>\n",
       "      <td>352.030642</td>\n",
       "      <td>551.722883</td>\n",
       "      <td>24.806707</td>\n",
       "      <td>115.422987</td>\n",
       "      <td>5.044749</td>\n",
       "    </tr>\n",
       "    <tr>\n",
       "      <th>IQR</th>\n",
       "      <td>1.962221</td>\n",
       "      <td>39.706932</td>\n",
       "      <td>1.155612e+04</td>\n",
       "      <td>1.971607</td>\n",
       "      <td>51.641161</td>\n",
       "      <td>115.590553</td>\n",
       "      <td>4.561031</td>\n",
       "      <td>21.344620</td>\n",
       "      <td>1.071781</td>\n",
       "    </tr>\n",
       "    <tr>\n",
       "      <th>skewness</th>\n",
       "      <td>0.048535</td>\n",
       "      <td>-0.085321</td>\n",
       "      <td>5.910114e-01</td>\n",
       "      <td>0.013003</td>\n",
       "      <td>-0.045728</td>\n",
       "      <td>0.268012</td>\n",
       "      <td>-0.020220</td>\n",
       "      <td>-0.051383</td>\n",
       "      <td>-0.032266</td>\n",
       "    </tr>\n",
       "    <tr>\n",
       "      <th>kurtosis</th>\n",
       "      <td>0.626904</td>\n",
       "      <td>0.525480</td>\n",
       "      <td>3.373203e-01</td>\n",
       "      <td>0.549782</td>\n",
       "      <td>0.786854</td>\n",
       "      <td>-0.237206</td>\n",
       "      <td>0.031018</td>\n",
       "      <td>0.223017</td>\n",
       "      <td>-0.049831</td>\n",
       "    </tr>\n",
       "  </tbody>\n",
       "</table>\n",
       "</div>"
      ],
      "text/plain": [
       "                   pH     Hardness        Solids  Chloramines      Sulfate  \\\n",
       "count     2010.000000  2010.000000  2.010000e+03  2010.000000  2010.000000   \n",
       "mean         7.087193   195.969209  2.190467e+04     7.134322   333.211376   \n",
       "std          1.572803    32.643166  8.625398e+03     1.585214    41.211111   \n",
       "min          0.227499    73.492234  3.209426e+02     1.390871   129.000000   \n",
       "25%          6.090785   176.740657  1.561441e+04     6.138326   307.626986   \n",
       "50%          7.029490   197.203525  2.092688e+04     7.142014   332.214113   \n",
       "75%          8.053006   216.447589  2.717053e+04     8.109933   359.268147   \n",
       "max         14.000000   317.338124  5.648867e+04    13.127000   481.030642   \n",
       "variance     2.473709  1065.576277  7.439749e+07     2.512904  1698.355672   \n",
       "range       13.772501   243.845890  5.616773e+04    11.736129   352.030642   \n",
       "IQR          1.962221    39.706932  1.155612e+04     1.971607    51.641161   \n",
       "skewness     0.048535    -0.085321  5.910114e-01     0.013003    -0.045728   \n",
       "kurtosis     0.626904     0.525480  3.373203e-01     0.549782     0.786854   \n",
       "\n",
       "          Conductivity  Organic Carbon  Trihalomethanes    Turbidity  \n",
       "count      2010.000000     2010.000000      2010.000000  2010.000000  \n",
       "mean        426.476708       14.357940        66.400717     3.969497  \n",
       "std          80.701872        3.325770        16.081109     0.780471  \n",
       "min         201.619737        2.200000         8.577013     1.450000  \n",
       "25%         366.619219       12.122530        55.949993     3.442882  \n",
       "50%         423.438372       14.323286        66.482041     3.967374  \n",
       "75%         482.209772       16.683562        77.294613     4.514663  \n",
       "max         753.342620       27.006707       124.000000     6.494749  \n",
       "variance   6512.792113       11.060746       258.602066     0.609135  \n",
       "range       551.722883       24.806707       115.422987     5.044749  \n",
       "IQR         115.590553        4.561031        21.344620     1.071781  \n",
       "skewness      0.268012       -0.020220        -0.051383    -0.032266  \n",
       "kurtosis     -0.237206        0.031018         0.223017    -0.049831  "
      ]
     },
     "execution_count": 41,
     "metadata": {},
     "output_type": "execute_result"
    }
   ],
   "source": [
    "# Description\n",
    "desc = df[df.columns[1:10]].describe()\n",
    "desc.loc['variance'] = df.var()\n",
    "desc.loc['range'] = df.max() - df.min()\n",
    "desc.loc['IQR'] = df.quantile(0.75) - df.quantile(0.25)\n",
    "desc.loc['skewness'] = df.skew()\n",
    "desc.loc['kurtosis'] = df.kurtosis()\n",
    "\n",
    "desc"
   ]
  },
  {
   "cell_type": "markdown",
   "metadata": {},
   "source": [
    "***\n",
    "#### **Modus Kolom pH**"
   ]
  },
  {
   "cell_type": "code",
   "execution_count": 42,
   "metadata": {},
   "outputs": [
    {
     "name": "stdout",
     "output_type": "stream",
     "text": [
      "Kolom pH :\n",
      "0        0.227499\n",
      "1        0.989912\n",
      "2        1.431782\n",
      "3        1.757037\n",
      "4        1.985383\n",
      "          ...    \n",
      "2005    11.568768\n",
      "2006    11.898078\n",
      "2007    12.246928\n",
      "2008    13.349889\n",
      "2009    14.000000\n",
      "Length: 2010, dtype: float64\n"
     ]
    }
   ],
   "source": [
    "print('Kolom pH :')\n",
    "print(df['pH'].mode())"
   ]
  },
  {
   "cell_type": "markdown",
   "metadata": {},
   "source": [
    "***\n",
    "#### **Modus Kolom Hardness**"
   ]
  },
  {
   "cell_type": "code",
   "execution_count": 43,
   "metadata": {},
   "outputs": [
    {
     "name": "stdout",
     "output_type": "stream",
     "text": [
      "Kolom Hardness :\n",
      "0        73.492234\n",
      "1        77.459586\n",
      "2        81.710895\n",
      "3        94.091307\n",
      "4        94.812545\n",
      "           ...    \n",
      "2005    286.567991\n",
      "2006    287.975540\n",
      "2007    300.292476\n",
      "2008    306.627481\n",
      "2009    317.338124\n",
      "Length: 2010, dtype: float64\n"
     ]
    }
   ],
   "source": [
    "print('Kolom Hardness :')\n",
    "print(df['Hardness'].mode())"
   ]
  },
  {
   "cell_type": "markdown",
   "metadata": {},
   "source": [
    "***\n",
    "#### **Modus Kolom Solids**"
   ]
  },
  {
   "cell_type": "code",
   "execution_count": 44,
   "metadata": {},
   "outputs": [
    {
     "name": "stdout",
     "output_type": "stream",
     "text": [
      "Kolom Solids :\n",
      "0         320.942611\n",
      "1        1198.943699\n",
      "2        1351.906979\n",
      "3        1372.091043\n",
      "4        2552.962804\n",
      "            ...     \n",
      "2005    50793.898917\n",
      "2006    53735.899194\n",
      "2007    55334.702799\n",
      "2008    56351.396304\n",
      "2009    56488.672413\n",
      "Length: 2010, dtype: float64\n"
     ]
    }
   ],
   "source": [
    "print('Kolom Solids :')\n",
    "print(df['Solids'].mode())"
   ]
  },
  {
   "cell_type": "markdown",
   "metadata": {},
   "source": [
    "***\n",
    "#### **Modus Kolom Chloramines**"
   ]
  },
  {
   "cell_type": "code",
   "execution_count": 45,
   "metadata": {},
   "outputs": [
    {
     "name": "stdout",
     "output_type": "stream",
     "text": [
      "Kolom Chloramines :\n",
      "0        1.390871\n",
      "1        1.920271\n",
      "2        2.397985\n",
      "3        2.456014\n",
      "4        2.458609\n",
      "          ...    \n",
      "2005    12.580026\n",
      "2006    12.626900\n",
      "2007    12.653362\n",
      "2008    13.043806\n",
      "2009    13.127000\n",
      "Length: 2010, dtype: float64\n"
     ]
    }
   ],
   "source": [
    "print('Kolom Chloramines :')\n",
    "print(df['Chloramines'].mode())"
   ]
  },
  {
   "cell_type": "markdown",
   "metadata": {},
   "source": [
    "***\n",
    "#### **Modus Kolom Sulfate**"
   ]
  },
  {
   "cell_type": "code",
   "execution_count": 46,
   "metadata": {},
   "outputs": [
    {
     "name": "stdout",
     "output_type": "stream",
     "text": [
      "Kolom Sulfate :\n",
      "0       129.000000\n",
      "1       180.206746\n",
      "2       182.397370\n",
      "3       187.170714\n",
      "4       187.424131\n",
      "           ...    \n",
      "2005    458.441072\n",
      "2006    460.107069\n",
      "2007    475.737460\n",
      "2008    476.539717\n",
      "2009    481.030642\n",
      "Length: 2010, dtype: float64\n"
     ]
    }
   ],
   "source": [
    "print('Kolom Sulfate :')\n",
    "print(df['Sulfate'].mode())"
   ]
  },
  {
   "cell_type": "markdown",
   "metadata": {},
   "source": [
    "***\n",
    "#### **Modus Kolom Conductivity**"
   ]
  },
  {
   "cell_type": "code",
   "execution_count": 47,
   "metadata": {},
   "outputs": [
    {
     "name": "stdout",
     "output_type": "stream",
     "text": [
      "Kolom Conductivity :\n",
      "0       201.619737\n",
      "1       210.319182\n",
      "2       233.907965\n",
      "3       245.859632\n",
      "4       252.968328\n",
      "           ...    \n",
      "2005    666.690618\n",
      "2006    669.725086\n",
      "2007    695.369528\n",
      "2008    708.226364\n",
      "2009    753.342620\n",
      "Length: 2010, dtype: float64\n"
     ]
    }
   ],
   "source": [
    "print('Kolom Conductivity :')\n",
    "print(df['Conductivity'].mode())"
   ]
  },
  {
   "cell_type": "markdown",
   "metadata": {},
   "source": [
    "***\n",
    "#### **Modus Kolom Organic Carbon**"
   ]
  },
  {
   "cell_type": "code",
   "execution_count": 48,
   "metadata": {},
   "outputs": [
    {
     "name": "stdout",
     "output_type": "stream",
     "text": [
      "Kolom Organic Carbon :\n",
      "0        2.200000\n",
      "1        4.371899\n",
      "2        4.466772\n",
      "3        4.861631\n",
      "4        4.966862\n",
      "          ...    \n",
      "2005    23.569645\n",
      "2006    23.604298\n",
      "2007    23.917601\n",
      "2008    24.755392\n",
      "2009    27.006707\n",
      "Length: 2010, dtype: float64\n"
     ]
    }
   ],
   "source": [
    "print('Kolom Organic Carbon :')\n",
    "print(df['Organic Carbon'].mode())"
   ]
  },
  {
   "cell_type": "markdown",
   "metadata": {},
   "source": [
    "***\n",
    "#### **Modus Kolom Trihalomehanes**"
   ]
  },
  {
   "cell_type": "code",
   "execution_count": 49,
   "metadata": {},
   "outputs": [
    {
     "name": "stdout",
     "output_type": "stream",
     "text": [
      "Kolom Trihalomethanes :\n",
      "0         8.577013\n",
      "1        14.343161\n",
      "2        15.684877\n",
      "3        16.291505\n",
      "4        17.527765\n",
      "           ...    \n",
      "2005    114.034946\n",
      "2006    114.208671\n",
      "2007    116.161622\n",
      "2008    120.030077\n",
      "2009    124.000000\n",
      "Length: 2010, dtype: float64\n"
     ]
    }
   ],
   "source": [
    "print('Kolom Trihalomethanes :')\n",
    "print(df['Trihalomethanes'].mode())"
   ]
  },
  {
   "cell_type": "markdown",
   "metadata": {},
   "source": [
    "***\n",
    "#### **Modus Kolom Turbidity**"
   ]
  },
  {
   "cell_type": "code",
   "execution_count": 50,
   "metadata": {},
   "outputs": [
    {
     "name": "stdout",
     "output_type": "stream",
     "text": [
      "Kolom Turbidity :\n",
      "0       1.450000\n",
      "1       1.492207\n",
      "2       1.496101\n",
      "3       1.680554\n",
      "4       1.812529\n",
      "          ...   \n",
      "2005    6.307678\n",
      "2006    6.357439\n",
      "2007    6.389161\n",
      "2008    6.494249\n",
      "2009    6.494749\n",
      "Length: 2010, dtype: float64\n"
     ]
    }
   ],
   "source": [
    "print('Kolom Turbidity :')\n",
    "print(df['Turbidity'].mode())"
   ]
  },
  {
   "cell_type": "markdown",
   "metadata": {},
   "source": [
    "***\n",
    "#### **Modus Keseluruhan**"
   ]
  },
  {
   "cell_type": "code",
   "execution_count": 51,
   "metadata": {},
   "outputs": [
    {
     "data": {
      "text/html": [
       "<div>\n",
       "<style scoped>\n",
       "    .dataframe tbody tr th:only-of-type {\n",
       "        vertical-align: middle;\n",
       "    }\n",
       "\n",
       "    .dataframe tbody tr th {\n",
       "        vertical-align: top;\n",
       "    }\n",
       "\n",
       "    .dataframe thead th {\n",
       "        text-align: right;\n",
       "    }\n",
       "</style>\n",
       "<table border=\"1\" class=\"dataframe\">\n",
       "  <thead>\n",
       "    <tr style=\"text-align: right;\">\n",
       "      <th></th>\n",
       "      <th>pH</th>\n",
       "      <th>Hardness</th>\n",
       "      <th>Solids</th>\n",
       "      <th>Chloramines</th>\n",
       "      <th>Sulfate</th>\n",
       "      <th>Conductivity</th>\n",
       "      <th>Organic Carbon</th>\n",
       "      <th>Trihalomethanes</th>\n",
       "      <th>Turbidity</th>\n",
       "    </tr>\n",
       "  </thead>\n",
       "  <tbody>\n",
       "    <tr>\n",
       "      <th>0</th>\n",
       "      <td>0.227499</td>\n",
       "      <td>73.492234</td>\n",
       "      <td>320.942611</td>\n",
       "      <td>1.390871</td>\n",
       "      <td>129.000000</td>\n",
       "      <td>201.619737</td>\n",
       "      <td>2.200000</td>\n",
       "      <td>8.577013</td>\n",
       "      <td>1.450000</td>\n",
       "    </tr>\n",
       "    <tr>\n",
       "      <th>1</th>\n",
       "      <td>0.989912</td>\n",
       "      <td>77.459586</td>\n",
       "      <td>1198.943699</td>\n",
       "      <td>1.920271</td>\n",
       "      <td>180.206746</td>\n",
       "      <td>210.319182</td>\n",
       "      <td>4.371899</td>\n",
       "      <td>14.343161</td>\n",
       "      <td>1.492207</td>\n",
       "    </tr>\n",
       "    <tr>\n",
       "      <th>2</th>\n",
       "      <td>1.431782</td>\n",
       "      <td>81.710895</td>\n",
       "      <td>1351.906979</td>\n",
       "      <td>2.397985</td>\n",
       "      <td>182.397370</td>\n",
       "      <td>233.907965</td>\n",
       "      <td>4.466772</td>\n",
       "      <td>15.684877</td>\n",
       "      <td>1.496101</td>\n",
       "    </tr>\n",
       "    <tr>\n",
       "      <th>3</th>\n",
       "      <td>1.757037</td>\n",
       "      <td>94.091307</td>\n",
       "      <td>1372.091043</td>\n",
       "      <td>2.456014</td>\n",
       "      <td>187.170714</td>\n",
       "      <td>245.859632</td>\n",
       "      <td>4.861631</td>\n",
       "      <td>16.291505</td>\n",
       "      <td>1.680554</td>\n",
       "    </tr>\n",
       "    <tr>\n",
       "      <th>4</th>\n",
       "      <td>1.985383</td>\n",
       "      <td>94.812545</td>\n",
       "      <td>2552.962804</td>\n",
       "      <td>2.458609</td>\n",
       "      <td>187.424131</td>\n",
       "      <td>252.968328</td>\n",
       "      <td>4.966862</td>\n",
       "      <td>17.527765</td>\n",
       "      <td>1.812529</td>\n",
       "    </tr>\n",
       "    <tr>\n",
       "      <th>...</th>\n",
       "      <td>...</td>\n",
       "      <td>...</td>\n",
       "      <td>...</td>\n",
       "      <td>...</td>\n",
       "      <td>...</td>\n",
       "      <td>...</td>\n",
       "      <td>...</td>\n",
       "      <td>...</td>\n",
       "      <td>...</td>\n",
       "    </tr>\n",
       "    <tr>\n",
       "      <th>2005</th>\n",
       "      <td>11.568768</td>\n",
       "      <td>286.567991</td>\n",
       "      <td>50793.898917</td>\n",
       "      <td>12.580026</td>\n",
       "      <td>458.441072</td>\n",
       "      <td>666.690618</td>\n",
       "      <td>23.569645</td>\n",
       "      <td>114.034946</td>\n",
       "      <td>6.307678</td>\n",
       "    </tr>\n",
       "    <tr>\n",
       "      <th>2006</th>\n",
       "      <td>11.898078</td>\n",
       "      <td>287.975540</td>\n",
       "      <td>53735.899194</td>\n",
       "      <td>12.626900</td>\n",
       "      <td>460.107069</td>\n",
       "      <td>669.725086</td>\n",
       "      <td>23.604298</td>\n",
       "      <td>114.208671</td>\n",
       "      <td>6.357439</td>\n",
       "    </tr>\n",
       "    <tr>\n",
       "      <th>2007</th>\n",
       "      <td>12.246928</td>\n",
       "      <td>300.292476</td>\n",
       "      <td>55334.702799</td>\n",
       "      <td>12.653362</td>\n",
       "      <td>475.737460</td>\n",
       "      <td>695.369528</td>\n",
       "      <td>23.917601</td>\n",
       "      <td>116.161622</td>\n",
       "      <td>6.389161</td>\n",
       "    </tr>\n",
       "    <tr>\n",
       "      <th>2008</th>\n",
       "      <td>13.349889</td>\n",
       "      <td>306.627481</td>\n",
       "      <td>56351.396304</td>\n",
       "      <td>13.043806</td>\n",
       "      <td>476.539717</td>\n",
       "      <td>708.226364</td>\n",
       "      <td>24.755392</td>\n",
       "      <td>120.030077</td>\n",
       "      <td>6.494249</td>\n",
       "    </tr>\n",
       "    <tr>\n",
       "      <th>2009</th>\n",
       "      <td>14.000000</td>\n",
       "      <td>317.338124</td>\n",
       "      <td>56488.672413</td>\n",
       "      <td>13.127000</td>\n",
       "      <td>481.030642</td>\n",
       "      <td>753.342620</td>\n",
       "      <td>27.006707</td>\n",
       "      <td>124.000000</td>\n",
       "      <td>6.494749</td>\n",
       "    </tr>\n",
       "  </tbody>\n",
       "</table>\n",
       "<p>2010 rows × 9 columns</p>\n",
       "</div>"
      ],
      "text/plain": [
       "             pH    Hardness        Solids  Chloramines     Sulfate  \\\n",
       "0      0.227499   73.492234    320.942611     1.390871  129.000000   \n",
       "1      0.989912   77.459586   1198.943699     1.920271  180.206746   \n",
       "2      1.431782   81.710895   1351.906979     2.397985  182.397370   \n",
       "3      1.757037   94.091307   1372.091043     2.456014  187.170714   \n",
       "4      1.985383   94.812545   2552.962804     2.458609  187.424131   \n",
       "...         ...         ...           ...          ...         ...   \n",
       "2005  11.568768  286.567991  50793.898917    12.580026  458.441072   \n",
       "2006  11.898078  287.975540  53735.899194    12.626900  460.107069   \n",
       "2007  12.246928  300.292476  55334.702799    12.653362  475.737460   \n",
       "2008  13.349889  306.627481  56351.396304    13.043806  476.539717   \n",
       "2009  14.000000  317.338124  56488.672413    13.127000  481.030642   \n",
       "\n",
       "      Conductivity  Organic Carbon  Trihalomethanes  Turbidity  \n",
       "0       201.619737        2.200000         8.577013   1.450000  \n",
       "1       210.319182        4.371899        14.343161   1.492207  \n",
       "2       233.907965        4.466772        15.684877   1.496101  \n",
       "3       245.859632        4.861631        16.291505   1.680554  \n",
       "4       252.968328        4.966862        17.527765   1.812529  \n",
       "...            ...             ...              ...        ...  \n",
       "2005    666.690618       23.569645       114.034946   6.307678  \n",
       "2006    669.725086       23.604298       114.208671   6.357439  \n",
       "2007    695.369528       23.917601       116.161622   6.389161  \n",
       "2008    708.226364       24.755392       120.030077   6.494249  \n",
       "2009    753.342620       27.006707       124.000000   6.494749  \n",
       "\n",
       "[2010 rows x 9 columns]"
      ]
     },
     "execution_count": 51,
     "metadata": {},
     "output_type": "execute_result"
    }
   ],
   "source": [
    "df[df.columns[1:10]].mode()"
   ]
  },
  {
   "cell_type": "markdown",
   "metadata": {},
   "source": [
    "***\n",
    "### **SOAL 2**\n",
    "Membuat Visualisasi plot distribusi, dalam bentuk histogram dan boxplot untuk setiap kolom numerik. Berikan uraian penjelasan kondisi setiap kolom berdasarkan kedua plot tersebut."
   ]
  },
  {
   "cell_type": "code",
   "execution_count": 52,
   "metadata": {},
   "outputs": [],
   "source": [
    "def visualizeDistributionPlot(df):\n",
    "    _, axes = plt.subplots(1, 2, figsize = (16, 7))\n",
    "    sns.histplot(data=df, ax=axes[0])\n",
    "    df.plot(kind = \"box\", ax = axes[1])"
   ]
  },
  {
   "cell_type": "markdown",
   "metadata": {},
   "source": [
    "***\n",
    "\n",
    "#### **Plot Distribusi Kolom pH**"
   ]
  },
  {
   "cell_type": "code",
   "execution_count": 53,
   "metadata": {},
   "outputs": [
    {
     "data": {
      "image/png": "[encoded data removed]",
      "text/plain": [
       "<Figure size 1152x504 with 2 Axes>"
      ]
     },
     "metadata": {
      "needs_background": "light"
     },
     "output_type": "display_data"
    }
   ],
   "source": [
    "visualizeDistributionPlot(df[\"pH\"])"
   ]
  },
  {
   "cell_type": "markdown",
   "metadata": {},
   "source": [
    "Berdasarkan histogram, kolom ini memiliki kecenderungan ke kiri sehingga memiliki positive skew, tetapi kecenderungan ini mendekati nol sehingga dapat diabaikan. Selain itu, plot distribusi cenderung lebih ramping dari histogram yang berdistribusi normal, sehingga tipe kurtosisnya adalah leptokurtic. Bentuk histogram secara umum mendekati *belly-shape*, tetapi lebih ramping. Adapun berdasarkan boxplot, kolom ini memiliki pencilan di kedua ujung.\n",
    "***\n",
    "\n",
    "#### **Plot Distribusi Kolom Hardness**"
   ]
  },
  {
   "cell_type": "code",
   "execution_count": 54,
   "metadata": {},
   "outputs": [
    {
     "data": {
      "image/png": "[encoded data removed]",
      "text/plain": [
       "<Figure size 1152x504 with 2 Axes>"
      ]
     },
     "metadata": {
      "needs_background": "light"
     },
     "output_type": "display_data"
    }
   ],
   "source": [
    "visualizeDistributionPlot(df[\"Hardness\"])"
   ]
  },
  {
   "cell_type": "markdown",
   "metadata": {},
   "source": [
    "Berdasarkan histogram, kolom ini memiliki kecenderungan ke kanan sehingga memiliki negative skew. Selain itu, plot distribusi cenderung lebih ramping dari histogram yang berdistribusi normal, sehingga tipe kurtosisnya adalah leptokurtic. Bentuk histogram secara umum mendekati *belly-shape*, tetapi lebih ramping dan memiliki kecenderungan. Adapun berdasarkan boxplot, kolom ini memiliki pencilan di kedua ujung.\n",
    "***\n",
    "\n",
    "#### **Plot Distribusi Kolom Solids**"
   ]
  },
  {
   "cell_type": "code",
   "execution_count": 55,
   "metadata": {},
   "outputs": [
    {
     "data": {
      "image/png": "[encoded data removed]",
      "text/plain": [
       "<Figure size 1152x504 with 2 Axes>"
      ]
     },
     "metadata": {
      "needs_background": "light"
     },
     "output_type": "display_data"
    }
   ],
   "source": [
    "visualizeDistributionPlot(df[\"Solids\"])"
   ]
  },
  {
   "cell_type": "markdown",
   "metadata": {},
   "source": [
    "Berdasarkan histogram, kolom ini memiliki kecenderungan ke kiri sehingga memiliki positive skew. Selain itu, plot distribusi cenderung lebih ramping dari histogram yang berdistribusi normal, sehingga tipe kurtosisnya adalah leptokurtic. Bentuk histogram secara umum mendekati *belly-shape*, tetapi lebih ramping dan memiliki kecenderungan. Adapun berdasarkan boxplot, kolom ini memiliki pencilan di bagian atas *upper-tail*\n",
    "***\n",
    "\n",
    "#### **Plot Distribusi Kolom Chloramines**"
   ]
  },
  {
   "cell_type": "code",
   "execution_count": 56,
   "metadata": {},
   "outputs": [
    {
     "data": {
      "image/png": "[encoded data removed]",
      "text/plain": [
       "<Figure size 1152x504 with 2 Axes>"
      ]
     },
     "metadata": {
      "needs_background": "light"
     },
     "output_type": "display_data"
    }
   ],
   "source": [
    "visualizeDistributionPlot(df[\"Chloramines\"])"
   ]
  },
  {
   "cell_type": "markdown",
   "metadata": {},
   "source": [
    "Berdasarkan histogram, kolom ini memiliki kecenderungan ke kiri sehingga memiliki positive skew, tetapi kecenderungan ini mendekati nol sehingga dapat diabaikan. Selain itu, plot distribusi cenderung lebih ramping dari histogram yang berdistribusi normal, sehingga tipe kurtosisnya adalah leptokurtic. Bentuk histogram secara umum mendekati *belly-shape*, tetapi lebih ramping. Adapun berdasarkan boxplot, kolom ini memiliki pencilan di kedua ujung.\n",
    "***\n",
    "\n",
    "#### **Plot Distribusi Kolom Sulfate**"
   ]
  },
  {
   "cell_type": "code",
   "execution_count": 57,
   "metadata": {},
   "outputs": [
    {
     "data": {
      "image/png": "[encoded data removed]",
      "text/plain": [
       "<Figure size 1152x504 with 2 Axes>"
      ]
     },
     "metadata": {
      "needs_background": "light"
     },
     "output_type": "display_data"
    }
   ],
   "source": [
    "visualizeDistributionPlot(df[\"Sulfate\"])"
   ]
  },
  {
   "cell_type": "markdown",
   "metadata": {},
   "source": [
    "Berdasarkan histogram, kolom ini memiliki kecenderungan ke kanan sehingga memiliki negative skew, tetapi kecenderungan ini mendekati nol sehingga dapat diabaikan. Selain itu, plot distribusi cenderung lebih ramping dari histogram yang berdistribusi normal, sehingga tipe kurtosisnya adalah leptokurtic. Bentuk histogram secara umum mendekati *belly-shape*, tetapi lebih ramping. Adapun berdasarkan boxplot, kolom ini memiliki pencilan di kedua ujung.\n",
    "***\n",
    "\n",
    "#### **Plot Distribusi Kolom Conductivity**"
   ]
  },
  {
   "cell_type": "code",
   "execution_count": 58,
   "metadata": {},
   "outputs": [
    {
     "data": {
      "image/png": "[encoded data removed]",
      "text/plain": [
       "<Figure size 1152x504 with 2 Axes>"
      ]
     },
     "metadata": {
      "needs_background": "light"
     },
     "output_type": "display_data"
    }
   ],
   "source": [
    "visualizeDistributionPlot(df[\"Conductivity\"])"
   ]
  },
  {
   "cell_type": "markdown",
   "metadata": {},
   "source": [
    "Berdasarkan histogram, kolom ini memiliki kecenderungan ke kiri sehingga memiliki positive skew. Selain itu, plot distribusi cenderung lebih lebar dari histogram yang berdistribusi normal, sehingga tipe kurtosisnya adalah platykurtic. Bentuk histogram secara umum mendekati *belly-shape*, tetapi lebih lebar dan memiliki kecenderungan. Adapun berdasarkan boxplot, kolom ini memiliki pencilan di bagian atas *upper-tail*\n",
    "***\n",
    "\n",
    "#### **Plot Distribusi Kolom Organic Carbon**"
   ]
  },
  {
   "cell_type": "code",
   "execution_count": 59,
   "metadata": {},
   "outputs": [
    {
     "data": {
      "image/png": "[encoded data removed]",
      "text/plain": [
       "<Figure size 1152x504 with 2 Axes>"
      ]
     },
     "metadata": {
      "needs_background": "light"
     },
     "output_type": "display_data"
    }
   ],
   "source": [
    "visualizeDistributionPlot(df[\"Organic Carbon\"])"
   ]
  },
  {
   "cell_type": "markdown",
   "metadata": {},
   "source": [
    "Berdasarkan histogram, kolom ini memiliki kecenderungan negatif yang bisa diabaikan, bentuk kurtosisnya juga mendekati histogram berdistibusi normal, sehingga kolom ini bisa dianggap berdistribusi normal. Dari boxplot dapat dilihat bahwa kolom ini memiliki sedikit outlier di kedua ujung.\n",
    "***\n",
    "\n",
    "#### **Plot Distribusi Kolom Trihalomethanes**"
   ]
  },
  {
   "cell_type": "code",
   "execution_count": 60,
   "metadata": {},
   "outputs": [
    {
     "data": {
      "image/png": "[encoded data removed]",
      "text/plain": [
       "<Figure size 1152x504 with 2 Axes>"
      ]
     },
     "metadata": {
      "needs_background": "light"
     },
     "output_type": "display_data"
    }
   ],
   "source": [
    "visualizeDistributionPlot(df[\"Trihalomethanes\"])"
   ]
  },
  {
   "cell_type": "markdown",
   "metadata": {},
   "source": [
    "Berdasarkan histogram, kolom ini memiliki kecenderungan negatif yang bisa diabaikan, bentuk kurtosisnya juga mendekati histogram berdistibusi normal, sehingga kolom ini bisa dianggap berdistribusi normal. Dari boxplot dapat dilihat bahwa kolom ini memiliki beberapa outlier di kedua ujung.\n",
    "***\n",
    "\n",
    "#### **Plot Distribusi Kolom Turbidity**"
   ]
  },
  {
   "cell_type": "code",
   "execution_count": 61,
   "metadata": {},
   "outputs": [
    {
     "data": {
      "image/png": "[encoded data removed]",
      "text/plain": [
       "<Figure size 1152x504 with 2 Axes>"
      ]
     },
     "metadata": {
      "needs_background": "light"
     },
     "output_type": "display_data"
    }
   ],
   "source": [
    "visualizeDistributionPlot(df[\"Turbidity\"])"
   ]
  },
  {
   "cell_type": "markdown",
   "metadata": {},
   "source": [
    "Berdasarkan histogram, kolom ini memiliki kecenderungan positif yang bisa diabaikan, bentuk kurtosisnya juga mendekati histogram berdistibusi normal, sehingga kolom ini bisa dianggap berdistribusi normal. Dari boxplot dapat dilihat bahwa kolom ini memiliki sedikit outlier di kedua ujung."
   ]
  },
  {
   "cell_type": "markdown",
   "metadata": {},
   "source": [
    "***\n",
    "### **SOAL 3**\n",
    "Menentukan setiap kolom numerik berdistribusi normal atau tidak. Gunakan normality test\n",
    "yang dikaitkan dengan histogram plot.\n"
   ]
  },
  {
   "cell_type": "markdown",
   "metadata": {},
   "source": [
    "***\n",
    "Normality test akan dilakukan dengan menggunakan fungsi `normaltest()` pada module `scipy.stats`. Fungsi `normaltest()` mengimplimentasikan D'Agostino K-Squared Test, yaitu uji kenormalan dengan skewness dan kurtosis."
   ]
  },
  {
   "cell_type": "code",
   "execution_count": 62,
   "metadata": {},
   "outputs": [],
   "source": [
    "def normality_test(atr):\n",
    "    sns.histplot(df[atr], stat='density', kde=True, linewidth=0)\n",
    "    stat, p = normaltest(df[atr])\n",
    "    alpha = 0.05\n",
    "    print(f'p = {p}')\n",
    "    if p>alpha:\n",
    "        print(f'Data {atr} berdistribusi normal')\n",
    "    else:\n",
    "        print(f'Data {atr} tidak berdistribusi normal')"
   ]
  },
  {
   "cell_type": "markdown",
   "metadata": {},
   "source": [
    "***\n",
    "#### **Normality Test untuk pH**"
   ]
  },
  {
   "cell_type": "code",
   "execution_count": 63,
   "metadata": {},
   "outputs": [
    {
     "name": "stdout",
     "output_type": "stream",
     "text": [
      "p = 2.651481334679772e-05\n",
      "Data pH tidak berdistribusi normal\n"
     ]
    },
    {
     "data": {
      "image/png": "[encoded data removed]",
      "text/plain": [
       "<Figure size 432x288 with 1 Axes>"
      ]
     },
     "metadata": {
      "needs_background": "light"
     },
     "output_type": "display_data"
    }
   ],
   "source": [
    "normality_test('pH')"
   ]
  },
  {
   "cell_type": "markdown",
   "metadata": {},
   "source": [
    "Data di atas tidak berdistribusi normal menurut D'Agostino K-Squared Test dengan $\\alpha = 0.05$. Dari histogram, juga dapat dilihat bahwa grafik sedikit miring sehingga tidak berbentuk bell curve."
   ]
  },
  {
   "cell_type": "markdown",
   "metadata": {},
   "source": [
    "***\n",
    "#### **Normality Test untuk Hardness**"
   ]
  },
  {
   "cell_type": "code",
   "execution_count": 64,
   "metadata": {},
   "outputs": [
    {
     "name": "stdout",
     "output_type": "stream",
     "text": [
      "p = 0.00013442428699593801\n",
      "Data Hardness tidak berdistribusi normal\n"
     ]
    },
    {
     "data": {
      "image/png": "[encoded data removed]",
      "text/plain": [
       "<Figure size 432x288 with 1 Axes>"
      ]
     },
     "metadata": {
      "needs_background": "light"
     },
     "output_type": "display_data"
    }
   ],
   "source": [
    "normality_test('Hardness')"
   ]
  },
  {
   "cell_type": "markdown",
   "metadata": {},
   "source": [
    "Data di atas tidak berdistribusi normal menurut D'Agostino K-Squared Test dengan $\\alpha = 0.05$. Dari histogram, juga dapat dilihat bahwa grafik tidak berbentuk bell curve."
   ]
  },
  {
   "cell_type": "markdown",
   "metadata": {},
   "source": [
    "***\n",
    "#### **Normality Test untuk Solids**"
   ]
  },
  {
   "cell_type": "code",
   "execution_count": 65,
   "metadata": {},
   "outputs": [
    {
     "name": "stdout",
     "output_type": "stream",
     "text": [
      "p = 2.079661368874404e-24\n",
      "Data Solids tidak berdistribusi normal\n"
     ]
    },
    {
     "data": {
      "image/png": "[encoded data removed]",
      "text/plain": [
       "<Figure size 432x288 with 1 Axes>"
      ]
     },
     "metadata": {
      "needs_background": "light"
     },
     "output_type": "display_data"
    }
   ],
   "source": [
    "normality_test('Solids')"
   ]
  },
  {
   "cell_type": "markdown",
   "metadata": {},
   "source": [
    "Data di atas tidak berdistribusi normal menurut D'Agostino K-Squared Test dengan $\\alpha = 0.05$. Dari histogram, juga dapat dilihat bahwa grafik tidak berbentuk bell curve."
   ]
  },
  {
   "cell_type": "markdown",
   "metadata": {},
   "source": [
    "***\n",
    "#### **Normality Test untuk Chloramines**"
   ]
  },
  {
   "cell_type": "code",
   "execution_count": 66,
   "metadata": {},
   "outputs": [
    {
     "name": "stdout",
     "output_type": "stream",
     "text": [
      "p = 0.0002504831654753917\n",
      "Data Chloramines tidak berdistribusi normal\n"
     ]
    },
    {
     "data": {
      "image/png": "[encoded data removed]",
      "text/plain": [
       "<Figure size 432x288 with 1 Axes>"
      ]
     },
     "metadata": {
      "needs_background": "light"
     },
     "output_type": "display_data"
    }
   ],
   "source": [
    "normality_test('Chloramines')"
   ]
  },
  {
   "cell_type": "markdown",
   "metadata": {},
   "source": [
    "Data di atas tidak berdistribusi normal menurut D'Agostino K-Squared Test dengan $\\alpha = 0.05$. Dari histogram, juga dapat dilihat bahwa grafik tidak berbentuk bell curve."
   ]
  },
  {
   "cell_type": "markdown",
   "metadata": {},
   "source": [
    "***\n",
    "#### **Normality Test untuk Sulfate**"
   ]
  },
  {
   "cell_type": "code",
   "execution_count": 67,
   "metadata": {},
   "outputs": [
    {
     "name": "stdout",
     "output_type": "stream",
     "text": [
      "p = 4.425593667801525e-07\n",
      "Data Sulfate tidak berdistribusi normal\n"
     ]
    },
    {
     "data": {
      "image/png": "[encoded data removed]",
      "text/plain": [
       "<Figure size 432x288 with 1 Axes>"
      ]
     },
     "metadata": {
      "needs_background": "light"
     },
     "output_type": "display_data"
    }
   ],
   "source": [
    "normality_test('Sulfate')"
   ]
  },
  {
   "cell_type": "markdown",
   "metadata": {},
   "source": [
    "Data di atas tidak berdistribusi normal menurut D'Agostino K-Squared Test dengan $\\alpha = 0.05$. Dari histogram, juga dapat dilihat bahwa grafik tidak berbentuk bell curve."
   ]
  },
  {
   "cell_type": "markdown",
   "metadata": {},
   "source": [
    "***\n",
    "#### **Normality Test untuk Conductivity**"
   ]
  },
  {
   "cell_type": "code",
   "execution_count": 68,
   "metadata": {},
   "outputs": [
    {
     "name": "stdout",
     "output_type": "stream",
     "text": [
      "p = 4.3901807828785e-07\n",
      "Data Conductivity tidak berdistribusi normal\n"
     ]
    },
    {
     "data": {
      "image/png": "[encoded data removed]",
      "text/plain": [
       "<Figure size 432x288 with 1 Axes>"
      ]
     },
     "metadata": {
      "needs_background": "light"
     },
     "output_type": "display_data"
    }
   ],
   "source": [
    "normality_test('Conductivity')"
   ]
  },
  {
   "cell_type": "markdown",
   "metadata": {},
   "source": [
    "Data di atas tidak berdistribusi normal menurut D'Agostino K-Squared Test dengan $\\alpha = 0.05$. Dari histogram, juga dapat dilihat bahwa grafik tidak berbentuk bell curve."
   ]
  },
  {
   "cell_type": "markdown",
   "metadata": {},
   "source": [
    "***\n",
    "#### **Normality Test untuk Organic Carbon**"
   ]
  },
  {
   "cell_type": "code",
   "execution_count": 69,
   "metadata": {},
   "outputs": [
    {
     "name": "stdout",
     "output_type": "stream",
     "text": [
      "p = 0.8825496581408321\n",
      "Data Organic Carbon berdistribusi normal\n"
     ]
    },
    {
     "data": {
      "image/png": "[encoded data removed]",
      "text/plain": [
       "<Figure size 432x288 with 1 Axes>"
      ]
     },
     "metadata": {
      "needs_background": "light"
     },
     "output_type": "display_data"
    }
   ],
   "source": [
    "normality_test('Organic Carbon')"
   ]
  },
  {
   "cell_type": "markdown",
   "metadata": {},
   "source": [
    "Data di atas berdistribusi normal menurut D'Agostino K-Squared Test dengan $\\alpha = 0.05$. Dari histogram, juga dapat dilihat bahwa grafik berbentuk bell curve."
   ]
  },
  {
   "cell_type": "markdown",
   "metadata": {},
   "source": [
    "***\n",
    "#### **Normality Test untuk Trihalomethanes**"
   ]
  },
  {
   "cell_type": "code",
   "execution_count": 70,
   "metadata": {},
   "outputs": [
    {
     "name": "stdout",
     "output_type": "stream",
     "text": [
      "p = 0.1043598441875188\n",
      "Data Trihalomethanes berdistribusi normal\n"
     ]
    },
    {
     "data": {
      "image/png": "[encoded data removed]",
      "text/plain": [
       "<Figure size 432x288 with 1 Axes>"
      ]
     },
     "metadata": {
      "needs_background": "light"
     },
     "output_type": "display_data"
    }
   ],
   "source": [
    "normality_test('Trihalomethanes')"
   ]
  },
  {
   "cell_type": "markdown",
   "metadata": {},
   "source": [
    "Data di atas berdistribusi normal menurut D'Agostino K-Squared Test dengan $\\alpha = 0.05$. Dari histogram, juga dapat dilihat bahwa grafik berbentuk bell curve."
   ]
  },
  {
   "cell_type": "markdown",
   "metadata": {},
   "source": [
    "***\n",
    "#### **Normality Test untuk Turbidty**"
   ]
  },
  {
   "cell_type": "code",
   "execution_count": 71,
   "metadata": {},
   "outputs": [
    {
     "name": "stdout",
     "output_type": "stream",
     "text": [
      "p = 0.7694717369961119\n",
      "Data Turbidity berdistribusi normal\n"
     ]
    },
    {
     "data": {
      "image/png": "[encoded data removed]",
      "text/plain": [
       "<Figure size 432x288 with 1 Axes>"
      ]
     },
     "metadata": {
      "needs_background": "light"
     },
     "output_type": "display_data"
    }
   ],
   "source": [
    "normality_test('Turbidity')"
   ]
  },
  {
   "cell_type": "markdown",
   "metadata": {},
   "source": [
    "Data di atas berdistribusi normal menurut D'Agostino K-Squared Test dengan $\\alpha = 0.05$. Dari histogram, juga dapat dilihat bahwa grafik berbentuk bell curve."
   ]
  },
  {
   "cell_type": "markdown",
   "metadata": {},
   "source": [
    "***\n",
    "### **SOAL 4**\n",
    "\n",
    "Melakukan test hipotesis 1 sampel, dengan menuliskan 6 langkah testing dan menampilkan boxplotnya untuk kolom/bagian yang bersesuaian.\n",
    "\n",
    "**Enam Langkah Testing:**\n",
    "1. Tentukan Hipotesis nol $(H_0: θ = θ_0)$, dimana $θ$ bisa berupa $μ$, $σ^2$, $p$, atau data lain berdistribusi tertentu (normal, binomial, dst.).\n",
    "2. Pilih hipotesis alternatif H1 salah dari dari $θ > θ_0$, $θ < θ_0$, atau $θ ≠ θ_0$.\n",
    "3. Tentukan tingkat signifikan $α$.\n",
    "4. Tentukan uji statistik yang sesuai dan tentukan daerah kritis.\n",
    "5. Hitung nilai uji statistik dari data sample. Hitung p-value sesuai dengan uji statistik yang digunakan.\n",
    "6. Ambil keputusan dengan TOLAK $H_0$ jika nilai uji terletak di daerah kritis atau dengan tes signifikan, TOLAK $H_0$ jika $p$-value lebih kecil dibanding tingkat signifikansi $α$ yang diinginkan."
   ]
  },
  {
   "cell_type": "markdown",
   "metadata": {},
   "source": [
    "***\n",
    "\n",
    "#### **Bagian a**\n",
    "Nilai rata-rata pH di atas 7?\n",
    "\n"
   ]
  },
  {
   "cell_type": "markdown",
   "metadata": {},
   "source": [
    "**Uji Hipotesis**\n",
    "\n",
    "**Asumsi**   \n",
    "$\\mu$ ialah nilai rata-rata pH.\n",
    "\n",
    "**1. Hipotesis Nol**   \n",
    "$H_0 : \\mu = 7$\n",
    "\n",
    "**2. Hipotesis Alternatif**   \n",
    "$H_0 : \\mu \\neq 7$\n",
    "\n",
    "**3. Tingkat signifikan**   \n",
    "$\\alpha = 0.05$\n",
    "\n",
    "**4. Uji Statistik dan Daerah Kritis**   \n",
    "Uji statistik : Single sample, two sided, variance known   \n",
    "Daerah kritis : $z < 1,96$ atau $z > 1,96$, diperoleh dari $z_{\\alpha/2} = 1.96$\n",
    "\n",
    "**5.Nilai Uji Statistik dan $p$-value**   \n",
    "$$z = \\frac{(\\bar x - \\mu_0)\\sqrt{n}}{\\sigma}$$\n",
    "$$p = P(Z > |z|) + P(Z<-|z|) = 2(1-P(Z<|z|))$$"
   ]
  },
  {
   "cell_type": "code",
   "execution_count": 79,
   "metadata": {},
   "outputs": [
    {
     "name": "stdout",
     "output_type": "stream",
     "text": [
      "z = 2.485445147379887\n",
      "p = 0.012938952577792984\n"
     ]
    }
   ],
   "source": [
    "expected_mean = 7.0\n",
    "avg = df['pH'].mean()\n",
    "std = df['pH'].std()\n",
    "n = df['pH'].count()\n",
    "z = (avg - expected_mean)*sqrt(n)/std\n",
    "p = 2*(1-norm.cdf(abs(z)))\n",
    "print(f'z = {z}')\n",
    "print(f'p = {p}')"
   ]
  },
  {
   "cell_type": "markdown",
   "metadata": {},
   "source": [
    "**6. Keputusan**   \n",
    "Karena $z$ berada dalam daerah kritis, $z = 2.485 > 1.96$, disimpulkan bahwa $H_0$ **dapat ditolak**.   \n",
    "Dengan demikian, **rata-rata pH $\\neq 7$** "
   ]
  },
  {
   "cell_type": "markdown",
   "metadata": {},
   "source": [
    "***\n",
    "### **SOAL 5**\n",
    "Melakukan test hipotesis 2 sampel, dengan menuliskan 6 langkah testing dan menampilkan\n",
    "juga boxplotnya untuk kolom/bagian yang bersesuaian.\n",
    "\n",
    "**Enam Langkah Testing:**\n",
    "1. Tentukan Hipotesis nol $(H_0: θ = θ_0)$, dimana $θ$ bisa berupa $μ$, $σ^2$, $p$, atau data lain berdistribusi tertentu (normal, binomial, dst.).\n",
    "2. Pilih hipotesis alternatif H1 salah dari dari $θ > θ_0$, $θ < θ_0$, atau $θ ≠ θ_0$.\n",
    "3. Tentukan tingkat signifikan $α$.\n",
    "4. Tentukan uji statistik yang sesuai dan tentukan daerah kritis.\n",
    "5. Hitung nilai uji statistik dari data sample. Hitung p-value sesuai dengan uji statistik yang digunakan.\n",
    "6. Ambil keputusan dengan TOLAK $H_0$ jika nilai uji terletak di daerah kritis atau dengan tes signifikan, TOLAK $H_0$ jika $p$-value lebih kecil dibanding tingkat signifikansi $α$ yang diinginkan."
   ]
  },
  {
   "cell_type": "code",
   "execution_count": null,
   "metadata": {},
   "outputs": [],
   "source": [
    "def describeTwoSamples(df1, df2, attr = [\" 1\", \" 2\"]):\n",
    "    desc1 = df1.describe()\n",
    "    desc2 = df2.describe()\n",
    "    desc = pd.merge(desc1, desc2, left_index=True, right_index=True, suffixes=(attr[0], attr[1]))\n",
    "    print(desc)\n",
    "\n",
    "def drawBoxPlot(df1, df2, attr = [\"Sampel 1\", \"Sampel 2\"]):\n",
    "    plt.figure(figsize=(16, 7))\n",
    "    b = [df1, df2]\n",
    "    plt.boxplot(b)\n",
    "    plt.xticks([1, 2], [attr[0], attr[1]])\n",
    "    plt.show()\n"
   ]
  },
  {
   "cell_type": "markdown",
   "metadata": {},
   "source": [
    "***\n",
    "#### **Bagian a**\n",
    "Data kolom Sulfate dibagi 2 sama rata: bagian awal dan bagian akhir kolom. Benarkah rata-rata kedua bagian tersebut sama?\n",
    "\n",
    "**Deskripsi Statistik Kedua Sampel**"
   ]
  },
  {
   "cell_type": "code",
   "execution_count": null,
   "metadata": {},
   "outputs": [
    {
     "name": "stdout",
     "output_type": "stream",
     "text": [
      "       Sulfate Awal  Sulfate Akhir\n",
      "count   1005.000000    1005.000000\n",
      "mean     331.305330     335.117423\n",
      "std       41.332755      41.021129\n",
      "min      129.000000     205.935091\n",
      "25%      307.563455     307.752703\n",
      "50%      330.390976     333.439570\n",
      "75%      356.552697     362.415419\n",
      "max      476.539717     481.030642\n"
     ]
    }
   ],
   "source": [
    "df1 = df[\"Sulfate\"].head(len(df)//2)\n",
    "df2 = df[\"Sulfate\"].tail(len(df)//2)\n",
    "describeTwoSamples(df1, df2, [\" Awal\",  \" Akhir\"])"
   ]
  },
  {
   "cell_type": "markdown",
   "metadata": {},
   "source": [
    "**Blox Plot Kedua Sampel**"
   ]
  },
  {
   "cell_type": "code",
   "execution_count": null,
   "metadata": {},
   "outputs": [
    {
     "data": {
      "image/png": "[encoded data removed]",
      "text/plain": [
       "<Figure size 1152x504 with 1 Axes>"
      ]
     },
     "metadata": {
      "needs_background": "light"
     },
     "output_type": "display_data"
    }
   ],
   "source": [
    "drawBoxPlot(df1, df2, [\"Bagian Awal\", \"Bagian Akhir\"])"
   ]
  },
  {
   "cell_type": "markdown",
   "metadata": {},
   "source": [
    "**Uji Hipotesis**\n",
    "\n",
    "**1. Hipotesis Nol** <br>\n",
    "$H_0: \\mu_{Sulfate\\_awal} = \\mu_{Sulfate\\_akhir} \\iff  \\mu_{Sulfate\\_awal} - \\mu_{Sulfate\\_akhir} = 0$\n",
    "\n",
    "**2. Hipotesis Alternatif** <br>\n",
    "$H_1: \\mu_{Sulfate\\_awal} \\neq \\mu_{Sulfate\\_akhir} \\iff \\mu_{Sulfate\\_awal} - \\mu_{Sulfate\\_akhir} \\neq 0$ (two-sided)\n",
    "\n",
    "**3. Tingkat Signifikan** <br>\n",
    "$\\alpha = 0.05$\n",
    "\n",
    "**4. Uji Statistik dan Daerah Kritis** <br>\n",
    "Uji Statistik&nbsp; &emsp;: Two sample, two sided, variansi diketahui dan derajat kebebasan > 30, sehingga z-test <br>\n",
    "Daerah kritis&emsp;: $z < -1.96$ atau $z > 1.96$, diperoleh dari $z_{\\frac{\\alpha}{2}} = 1.96$\n",
    "\n",
    "**5. Nilai Uji Statistik dan $p$-value** <br>\n",
    "$$\n",
    "z = \\frac{(\\bar{x_1}-\\bar{x_2}) - d_0}{\\sqrt{\\sigma^2_1/n_1 + \\sigma^2_2/n_2}}\n",
    "$$\n",
    "$$\n",
    "p = P(Z > |z|) + P(Z < -|z|) = 2(1-P(Z < |z|))\n",
    "$$"
   ]
  },
  {
   "cell_type": "code",
   "execution_count": null,
   "metadata": {},
   "outputs": [
    {
     "name": "stdout",
     "output_type": "stream",
     "text": [
      "z = -2.0752690696871983\n",
      "p = 0.03796160438512852\n"
     ]
    }
   ],
   "source": [
    "z = (df1.mean()-df2.mean())/sqrt(df1.var()/len(df1) + df2.var()/len(df2))\n",
    "p = 2*(1-norm.cdf(abs(z)))\n",
    "\n",
    "print(f\"z = {z}\")\n",
    "print(f\"p = {p}\")"
   ]
  },
  {
   "cell_type": "markdown",
   "metadata": {},
   "source": [
    "**6. Keputusan** <br>\n",
    "Karena $z$ berada dalam daerah kritis, $z = -2.075 < -1.96$, disimpulkan bahwa $H_0$ **dapat ditolak**. <br> Dengan demikian, rata-rata kedua sampel **tidak sama**\n",
    "\n",
    "***\n",
    "#### **Bagian b**\n",
    "Data kolom OrganicCarbon dibagi 2 sama rata: bagian awal dan bagian akhir kolom. Benarkah rata-rata bagian awal lebih besar dari pada bagian akhir sebesar 0.15?\n",
    "\n",
    "**Deskripsi Statistik Kedua Sampel**"
   ]
  },
  {
   "cell_type": "code",
   "execution_count": null,
   "metadata": {},
   "outputs": [
    {
     "name": "stdout",
     "output_type": "stream",
     "text": [
      "       Organic Carbon Awal  Organic Carbon Akhir\n",
      "count          1005.000000           1005.000000\n",
      "mean             14.253973             14.461907\n",
      "std               3.351162              3.298573\n",
      "min               2.200000              4.466772\n",
      "25%              11.983961             12.244622\n",
      "50%              14.210624             14.356496\n",
      "75%              16.684074             16.682025\n",
      "max              23.917601             27.006707\n"
     ]
    }
   ],
   "source": [
    "df1 = df[\"Organic Carbon\"].head(len(df)//2)\n",
    "df2 = df[\"Organic Carbon\"].tail(len(df)//2)\n",
    "describeTwoSamples(df1, df2, [\" Awal\", \" Akhir\"])"
   ]
  },
  {
   "cell_type": "markdown",
   "metadata": {},
   "source": [
    "**Blox Plot Kedua Sampel**"
   ]
  },
  {
   "cell_type": "code",
   "execution_count": null,
   "metadata": {},
   "outputs": [
    {
     "data": {
      "image/png": "[encoded data removed]",
      "text/plain": [
       "<Figure size 1152x504 with 1 Axes>"
      ]
     },
     "metadata": {
      "needs_background": "light"
     },
     "output_type": "display_data"
    }
   ],
   "source": [
    "drawBoxPlot(df1, df2, [\"Bagian Awal\", \"Bagian Akhir\"])"
   ]
  },
  {
   "cell_type": "markdown",
   "metadata": {},
   "source": [
    "**Uji Hipotesis**\n",
    "\n",
    "**1. Hipotesis Nol** <br>\n",
    "$H_0: \\mu_{OrganicCarbon\\_awal} = \\mu_{OrganicCarbon\\_akhir} + 0.15 \\iff  \\mu_{OrganicCarbon\\_awal} - \\mu_{OrganicCarbon\\_akhir} = 0.15$\n",
    "\n",
    "**2. Hipotesis Alternatif** <br>\n",
    "$H_1: \\mu_{OrganicCarbon\\_awal} \\neq \\mu_{OrganicCarbon\\_akhir} + 0.15 \\iff \\mu_{OrganicCarbon\\_awal} - \\mu_{OrganicCarbon\\_akhir} \\neq 0.15$ (two-sided)\n",
    "\n",
    "**3. Tingkat Signifikan** <br>\n",
    "$\\alpha = 0.05$\n",
    "\n",
    "**4. Uji Statistik dan Daerah Kritis** <br>\n",
    "Uji Statistik&nbsp; &emsp;: Two sample, two sided, variansi diketahui dan derajat kebebasan > 30, sehingga z-test <br>\n",
    "Daerah kritis&emsp;: $z < -1.96$ atau $z > 1.96$, diperoleh dari $z_{\\frac{\\alpha}{2}} = 1.96$\n",
    "\n",
    "**5. Nilai Uji Statistik dan $p$-value** <br>\n",
    "$$\n",
    "z = \\frac{(\\bar{x_1}-\\bar{x_2}) - d_0}{\\sqrt{\\sigma^2_1/n_1 + \\sigma^2_2/n_2}}\n",
    "$$\n",
    "$$\n",
    "p = P(Z > |z|) + P(Z < -|z|) = 2(1-P(Z < |z|))\n",
    "$$"
   ]
  },
  {
   "cell_type": "code",
   "execution_count": null,
   "metadata": {},
   "outputs": [
    {
     "name": "stdout",
     "output_type": "stream",
     "text": [
      "z = -2.413145517798795\n",
      "p = 0.015815503817600662\n"
     ]
    }
   ],
   "source": [
    "z = (df1.mean()-df2.mean() - 0.15)/sqrt(df1.var()/len(df1) + df2.var()/len(df2))\n",
    "p = 2*(1-norm.cdf(abs(z)))\n",
    "\n",
    "print(f\"z = {z}\")\n",
    "print(f\"p = {p}\")"
   ]
  },
  {
   "cell_type": "markdown",
   "metadata": {},
   "source": [
    "**6. Keputusan** <br>\n",
    "Karena $z$ berada dalam daerah kritis, $z = -2.413 < -1.96$, disimpulkan bahwa $H_0$ **dapat ditolak**. <br> Dengan demikian, rata-rata sampel pertama **tidak lebih besar** dari pada sampel kedua sebesar 0.15\n",
    "\n",
    "***\n",
    "#### **Bagian c**\n",
    "Rata-rata 100 baris pertama kolom Chloramines sama dengan 100 baris terakhirnya?\n",
    "\n",
    "**Deskripsi Statistik Kedua Sampel**"
   ]
  },
  {
   "cell_type": "code",
   "execution_count": null,
   "metadata": {},
   "outputs": [
    {
     "name": "stdout",
     "output_type": "stream",
     "text": [
      "       Chloramines Awal  Chloramines Akhir\n",
      "count        100.000000         100.000000\n",
      "mean           7.007771           7.147198\n",
      "std            1.480892           1.306806\n",
      "min            3.606036           3.458192\n",
      "25%            6.098138           6.336701\n",
      "50%            7.071012           7.113334\n",
      "75%            8.070950           7.975377\n",
      "max           10.056852          10.282329\n"
     ]
    }
   ],
   "source": [
    "df1 = df[\"Chloramines\"].head(100)\n",
    "df2 = df[\"Chloramines\"].tail(100)\n",
    "describeTwoSamples(df1, df2, [\" Awal\", \" Akhir\"])"
   ]
  },
  {
   "cell_type": "markdown",
   "metadata": {},
   "source": [
    "**Blox Plot Kedua Sampel**"
   ]
  },
  {
   "cell_type": "code",
   "execution_count": null,
   "metadata": {},
   "outputs": [
    {
     "data": {
      "image/png": "[encoded data removed]",
      "text/plain": [
       "<Figure size 1152x504 with 1 Axes>"
      ]
     },
     "metadata": {
      "needs_background": "light"
     },
     "output_type": "display_data"
    }
   ],
   "source": [
    "drawBoxPlot(df1, df2, [\"Bagian Awal\", \"Bagian Akhir\"])"
   ]
  },
  {
   "cell_type": "markdown",
   "metadata": {},
   "source": [
    "**Uji Hipotesis**\n",
    "\n",
    "**1. Hipotesis Nol** <br>\n",
    "$H_0: \\mu_{Chloramines\\_awal} = \\mu_{Chloramines\\_akhir} \\iff  \\mu_{Chloramines\\_awal} - \\mu_{Chloramines\\_akhir} = 0$\n",
    "\n",
    "**2. Hipotesis Alternatif** <br>\n",
    "$H_1: \\mu_{Chloramines\\_awal} \\neq \\mu_{Chloramines\\_akhir} \\iff \\mu_{Chloramines\\_awal} - \\mu_{Chloramines\\_akhir} \\neq 0$ (two-sided)\n",
    "\n",
    "**3. Tingkat Signifikan** <br>\n",
    "$\\alpha = 0.05$\n",
    "\n",
    "**4. Uji Statistik dan Daerah Kritis** <br>\n",
    "Uji Statistik&nbsp; &emsp;: Two sample, two sided, variansi diketahui dan derajat kebebasan > 30, sehingga z-test <br>\n",
    "Daerah kritis&emsp;: $z < -1.96$ atau $z > 1.96$, diperoleh dari $z_{\\frac{\\alpha}{2}} = 1.96$\n",
    "\n",
    "**5. Nilai Uji Statistik dan $p$-value** <br>\n",
    "$$\n",
    "z = \\frac{(\\bar{x_1}-\\bar{x_2}) - d_0}{\\sqrt{\\sigma^2_1/n_1 + \\sigma^2_2/n_2}}\n",
    "$$\n",
    "$$\n",
    "p = P(Z > |z|) + P(Z < -|z|) = 2(1-P(Z < |z|))\n",
    "$$"
   ]
  },
  {
   "cell_type": "code",
   "execution_count": null,
   "metadata": {},
   "outputs": [
    {
     "name": "stdout",
     "output_type": "stream",
     "text": [
      "z = -0.7059424842236872\n",
      "p = 0.48022390604502796\n"
     ]
    }
   ],
   "source": [
    "z = (df1.mean()-df2.mean())/sqrt(df1.var()/len(df1) + df2.var()/len(df2))\n",
    "p = 2*(1-norm.cdf(abs(z)))\n",
    "\n",
    "print(f\"z = {z}\")\n",
    "print(f\"p = {p}\")"
   ]
  },
  {
   "cell_type": "markdown",
   "metadata": {},
   "source": [
    "**6. Keputusan** <br>\n",
    "Karena $z$ tidak berada dalam daerah kritis $-1.96 < z = -0.706 < 1.96$ dan $p$-value $> \\alpha$ disimpulkan bahwa $H_0$ **gagal ditolak**. <br> Dengan demikian, rata-rata sampel pertama **sama dengan** rata-rata sampel kedua\n",
    "\n",
    "***\n",
    "#### **Bagian d**\n",
    "Proporsi nilai bagian awal Turbidity yang lebih dari 4, adalah lebih besar daripada, proporsi nilai yang sama di bagian akhir Turbidity?\n",
    "\n",
    "**Deskripsi Statistik Kedua Sampel**"
   ]
  },
  {
   "cell_type": "code",
   "execution_count": null,
   "metadata": {},
   "outputs": [
    {
     "name": "stdout",
     "output_type": "stream",
     "text": [
      "       Turbidity Awal  Turbidity Akhir\n",
      "count     1005.000000      1005.000000\n",
      "mean         3.942879         3.996115\n",
      "std          0.786455         0.773917\n",
      "min          1.496101         1.450000\n",
      "25%          3.403393         3.488675\n",
      "50%          3.964450         3.969740\n",
      "75%          4.496627         4.549917\n",
      "max          6.494249         6.494749\n"
     ]
    }
   ],
   "source": [
    "df1 = df[\"Turbidity\"].head(len(df)//2)\n",
    "df2 = df[\"Turbidity\"].tail(len(df)//2)\n",
    "describeTwoSamples(df1, df2, [\" Awal\", \" Akhir\"])"
   ]
  },
  {
   "cell_type": "markdown",
   "metadata": {},
   "source": [
    "**Blox Plot Kedua Sampel**"
   ]
  },
  {
   "cell_type": "code",
   "execution_count": null,
   "metadata": {},
   "outputs": [
    {
     "data": {
      "image/png": "[encoded data removed]",
      "text/plain": [
       "<Figure size 1152x504 with 1 Axes>"
      ]
     },
     "metadata": {
      "needs_background": "light"
     },
     "output_type": "display_data"
    }
   ],
   "source": [
    "drawBoxPlot(df1, df2, [\"Bagian Awal\", \"Bagian Akhir\"])"
   ]
  },
  {
   "cell_type": "markdown",
   "metadata": {},
   "source": [
    "**Uji Hipotesis**\n",
    "\n",
    "**1. Hipotesis Nol** <br>\n",
    "$H_0: p_{Turbidity\\_awal} = p_{Turbidity\\_akhir} \\iff  p_{Turbidity\\_awal} - p_{Turbidity\\_akhir} = 0$\n",
    "\n",
    "**2. Hipotesis Alternatif** <br>\n",
    "$H_1: p_{Turbidity\\_awal} > p_{Turbidity\\_akhir} \\iff p_{Turbidity\\_awal} - p_{Turbidity\\_akhir} > 0$ (one-sided)\n",
    "\n",
    "**3. Tingkat Signifikan** <br>\n",
    "$\\alpha = 0.05$\n",
    "\n",
    "**4. Uji Statistik dan Daerah Kritis** <br>\n",
    "Uji Statistik&nbsp; &emsp;: Two sample, one sided, proportion test <br>\n",
    "Daerah kritis&emsp;: $z > 1.645$, diperoleh dari $z_{\\alpha} = 1.645$\n",
    "\n",
    "**5. Nilai Uji Statistik dan $p$-value** <br>\n",
    "$$\n",
    "z = \\frac{(\\hat{p_1}-\\hat{p_2})}{\\sqrt{\\hat{p}\\hat{q}(1/n_1 + 1/n_2)}}\n",
    "$$\n",
    "$$\n",
    "\\hat{p_i} = \\frac{x_i}{n_i}, \\hat{p} = \\frac{x_1+x_2}{n_1+n2}\n",
    "$$\n",
    "$$\n",
    "p = P(Z > z) = 1-P(Z < z)\n",
    "$$"
   ]
  },
  {
   "cell_type": "code",
   "execution_count": null,
   "metadata": {},
   "outputs": [
    {
     "name": "stdout",
     "output_type": "stream",
     "text": [
      "z = -0.13388958661778735\n",
      "p = 0.5532550575911831\n"
     ]
    }
   ],
   "source": [
    "x1 = len(df1.loc[df1 > 4])\n",
    "x2 = len(df2.loc[df2 > 4])\n",
    "\n",
    "n1 = len(df1)\n",
    "n2 = len(df2)\n",
    "\n",
    "p1 = x1/n1\n",
    "p2 = x2/n2\n",
    "phat = (x1+x2)/(n1+n2)\n",
    "qhat = 1-phat\n",
    "\n",
    "z = (p1-p2)/sqrt(phat*qhat*(1/n1 + 1/n2))\n",
    "p = 1-norm.cdf(z)\n",
    "\n",
    "print(f\"z = {z}\")\n",
    "print(f\"p = {p}\")"
   ]
  },
  {
   "cell_type": "markdown",
   "metadata": {},
   "source": [
    "**6. Keputusan** <br>\n",
    "Karena $z$ tidak berada dalam daerah kritis $z = -0.134 < 1.645$ dan $p$-value $> \\alpha$ disimpulkan bahwa $H_0$ **gagal ditolak**. <br> Dengan demikian, proporsi data yang lebih dari empat pada sampel pertama **tidak lebih besar** dibandingkan proporsi sampel kedua\n",
    "\n",
    "***\n",
    "#### **Bagian e**\n",
    "Bagian awal kolom Sulfate memiliki variansi yang sama dengan bagian akhirnya?\n",
    "\n",
    "**Deskripsi Statistik Kedua Sampel**"
   ]
  },
  {
   "cell_type": "code",
   "execution_count": null,
   "metadata": {},
   "outputs": [
    {
     "name": "stdout",
     "output_type": "stream",
     "text": [
      "       Sulfate Awal  Sulfate Akhir\n",
      "count   1005.000000    1005.000000\n",
      "mean     331.305330     335.117423\n",
      "std       41.332755      41.021129\n",
      "min      129.000000     205.935091\n",
      "25%      307.563455     307.752703\n",
      "50%      330.390976     333.439570\n",
      "75%      356.552697     362.415419\n",
      "max      476.539717     481.030642\n"
     ]
    }
   ],
   "source": [
    "df1 = df[\"Sulfate\"].head(len(df)//2)\n",
    "df2 = df[\"Sulfate\"].tail(len(df)//2)\n",
    "describeTwoSamples(df1, df2, [\" Awal\", \" Akhir\"])"
   ]
  },
  {
   "cell_type": "markdown",
   "metadata": {},
   "source": [
    "**Blox Plot Kedua Sampel**"
   ]
  },
  {
   "cell_type": "code",
   "execution_count": null,
   "metadata": {},
   "outputs": [
    {
     "data": {
      "image/png": "[encoded data removed]",
      "text/plain": [
       "<Figure size 1152x504 with 1 Axes>"
      ]
     },
     "metadata": {
      "needs_background": "light"
     },
     "output_type": "display_data"
    }
   ],
   "source": [
    "drawBoxPlot(df1, df2, [\"Bagian Awal\", \"Bagian Akhir\"])"
   ]
  },
  {
   "cell_type": "markdown",
   "metadata": {},
   "source": [
    "**Uji Hipotesis**\n",
    "\n",
    "**1. Hipotesis Nol** <br>\n",
    "$H_0: \\sigma^2_{Sulfate\\_awal} = \\sigma^2_{Sulfate\\_akhir} \\iff  \\sigma^2_{Sulfate\\_awal} - \\sigma^2_{Sulfate\\_akhir} = 0$\n",
    "\n",
    "**2. Hipotesis Alternatif** <br>\n",
    "$H_1: \\sigma^2_{Sulfate\\_awal} \\neq \\sigma^2_{Sulfate\\_akhir} \\iff \\sigma^2_{Sulfate\\_awal} - \\sigma^2_{Sulfate\\_akhir} \\neq 0$ (two-sided)\n",
    "\n",
    "**3. Tingkat Signifikan** <br>\n",
    "$\\alpha = 0.05$\n",
    "\n",
    "**4. Uji Statistik dan Daerah Kritis** <br>\n",
    "Uji Statistik&nbsp; &emsp;: distribusi F <br>\n",
    "Daerah kritis&emsp;: $f > f_{\\frac{\\alpha}{2}}(v_1, v_2) = f_1$ atau $f < f_{1-\\frac{\\alpha}{2}}(v_1, v_2) = f_2$, yaitu"
   ]
  },
  {
   "cell_type": "code",
   "execution_count": null,
   "metadata": {},
   "outputs": [
    {
     "name": "stdout",
     "output_type": "stream",
     "text": [
      "f1 = 2971.803840478214\n",
      "f2 = 0.00033649596463240414\n",
      "Daerah kritis\t: f > 2971.803840478214 atau f < 0.00033649596463240414\n"
     ]
    }
   ],
   "source": [
    "alpha = 0.05\n",
    "v1 = len(df1)-1\n",
    "v2 = len(df2)-1\n",
    "\n",
    "f1 = norm.ppf(1-alpha/2, v1, v2)\n",
    "f2 = 1/norm.ppf(1-alpha/2, v2, v1)\n",
    "\n",
    "print(f\"f1 = {f1}\")\n",
    "print(f\"f2 = {f2}\")\n",
    "print(f\"Daerah kritis\\t: f > {f1} atau f < {f2}\")"
   ]
  },
  {
   "cell_type": "markdown",
   "metadata": {},
   "source": [
    "**5. Nilai Uji Statistik dan $p$-value** <br>\n",
    "$$\n",
    "f = \\frac{s^2_1}{s^2_2}\n",
    "$$\n",
    "$$\n",
    "p = P(F > |f|) + P(F < -|f|) = 2(1-P(F < |f|))\n",
    "$$"
   ]
  },
  {
   "cell_type": "code",
   "execution_count": null,
   "metadata": {},
   "outputs": [
    {
     "name": "stdout",
     "output_type": "stream",
     "text": [
      "f = 1.0152511043950063\n",
      "p = 1.6821998800807634\n"
     ]
    }
   ],
   "source": [
    "f = df1.var()/df2.var()\n",
    "p = 2*(1-norm.cdf(abs(f), v1, v2))\n",
    "\n",
    "print(f\"f = {f}\")\n",
    "print(f\"p = {p}\")"
   ]
  },
  {
   "cell_type": "markdown",
   "metadata": {},
   "source": [
    "**6. Keputusan** <br>\n",
    "Karena $f$ tidak berada dalam daerah kritis $f_2 < f = 1.01 < f_1$ dan $p$-value $> \\alpha$ disimpulkan bahwa $H_0$ **gagal ditolak**. <br> Dengan demikian, variansi kedua sampel **sama**\n",
    "\n",
    "***\n",
    "### **SOAL 6**\n",
    "Test korelasi: tentukan apakah setiap kolom non-target berkorelasi dengan kolom target,\n",
    "dengan menggambarkan juga scatter plot nya. Gunakan correlation test.\n",
    "\n",
    "**Intepretasi Koefisien Korelasi:**\n",
    "\n",
    "$ c < 0 $ : Berkorelasi negatif, berbanding terbalik <br>\n",
    "$ c = 0 $ : Tidak berkorelasi <br>\n",
    "$ c > 0 $ : Berkorelasi positif, berbanding lurus <br>\n",
    "\n",
    "$ |c| < 0.30$ : *Negligible* <br>\n",
    "$0.30 \\leq |c| < 0.50$ : *Weak* <br>\n",
    "$0.50 \\leq |c| < 0.70$ : *Moderate* <br>\n",
    "$0.70 \\leq |c| < 0.90$ : *Strong* <br>\n",
    "$|c| \\geq 0.90$ : *Very Strong* <br>\n"
   ]
  },
  {
   "cell_type": "code",
   "execution_count": null,
   "metadata": {},
   "outputs": [],
   "source": [
    "def drawScatterPlot(col1, col2, data):\n",
    "    plt.figure(figsize=(16, 7))\n",
    "    plt.scatter(data[col1], data[col2])\n",
    "    plt.xlabel(col1)\n",
    "    plt.ylabel(col2)\n",
    "    plt.show()\n",
    "    def printf(str):\n",
    "        display(Markdown(str))\n",
    "    c = df[col1].corr(df[col2])\n",
    "    printf(f\"Koefisien korelasi = {c}\")\n",
    "    verdict = \"\"\n",
    "    if(c == 0):\n",
    "        printf(\"Intepretasi koefisien: Kedua kolom tidak berkorelasi\")\n",
    "    elif(c < 0):\n",
    "        verdict += \"Intepretasi koefisien: Kedua kolom **berkorelasi negatif**\"\n",
    "    else:\n",
    "        verdict += \"Intepretasi koefisien: Kedua kolom **berkorelasi positif**\"\n",
    "    if(abs(c) < 0.3):\n",
    "        verdict += \", tetapi ***negligible***.\"\n",
    "    elif(abs(c) < 0.5):\n",
    "        verdict += \", tetapi ***weak***.\"\n",
    "    elif(abs(c) < 0.7):\n",
    "        verdict += \", dan ***moderate***.\"\n",
    "    elif(abs(c) < 0.9):\n",
    "        verdict += \", dan ***strong***.\"\n",
    "    else:\n",
    "        verdict += \", dan ***very strong***.\"\n",
    "    printf(verdict)"
   ]
  },
  {
   "cell_type": "markdown",
   "metadata": {},
   "source": [
    "***\n",
    "\n",
    "#### **Korelasi Potability dengan pH**"
   ]
  },
  {
   "cell_type": "code",
   "execution_count": null,
   "metadata": {},
   "outputs": [
    {
     "data": {
      "image/png": "[encoded data removed]",
      "text/plain": [
       "<Figure size 1152x504 with 1 Axes>"
      ]
     },
     "metadata": {
      "needs_background": "light"
     },
     "output_type": "display_data"
    },
    {
     "data": {
      "text/markdown": [
       "Koefisien korelasi = 0.015475094408433457"
      ],
      "text/plain": [
       "<IPython.core.display.Markdown object>"
      ]
     },
     "metadata": {},
     "output_type": "display_data"
    },
    {
     "data": {
      "text/markdown": [
       "Intepretasi koefisien: Kedua kolom **berkorelasi positif**, tetapi ***negligible***."
      ],
      "text/plain": [
       "<IPython.core.display.Markdown object>"
      ]
     },
     "metadata": {},
     "output_type": "display_data"
    }
   ],
   "source": [
    "drawScatterPlot(\"pH\", \"Potability\", df)"
   ]
  },
  {
   "cell_type": "markdown",
   "metadata": {},
   "source": [
    "***\n",
    "\n",
    "#### **Korelasi Potability dengan Hardness**"
   ]
  },
  {
   "cell_type": "code",
   "execution_count": null,
   "metadata": {},
   "outputs": [
    {
     "data": {
      "image/png": "[encoded data removed]",
      "text/plain": [
       "<Figure size 1152x504 with 1 Axes>"
      ]
     },
     "metadata": {
      "needs_background": "light"
     },
     "output_type": "display_data"
    },
    {
     "data": {
      "text/markdown": [
       "Koefisien korelasi = -0.0014631528959479436"
      ],
      "text/plain": [
       "<IPython.core.display.Markdown object>"
      ]
     },
     "metadata": {},
     "output_type": "display_data"
    },
    {
     "data": {
      "text/markdown": [
       "Intepretasi koefisien: Kedua kolom **berkorelasi negatif**, tetapi ***negligible***."
      ],
      "text/plain": [
       "<IPython.core.display.Markdown object>"
      ]
     },
     "metadata": {},
     "output_type": "display_data"
    }
   ],
   "source": [
    "drawScatterPlot(\"Hardness\", \"Potability\", df)"
   ]
  },
  {
   "cell_type": "markdown",
   "metadata": {},
   "source": [
    "***\n",
    "\n",
    "#### **Korelasi Potability dengan Solids**"
   ]
  },
  {
   "cell_type": "code",
   "execution_count": null,
   "metadata": {},
   "outputs": [
    {
     "data": {
      "image/png": "[encoded data removed]",
      "text/plain": [
       "<Figure size 1152x504 with 1 Axes>"
      ]
     },
     "metadata": {
      "needs_background": "light"
     },
     "output_type": "display_data"
    },
    {
     "data": {
      "text/markdown": [
       "Koefisien korelasi = 0.03897657818173473"
      ],
      "text/plain": [
       "<IPython.core.display.Markdown object>"
      ]
     },
     "metadata": {},
     "output_type": "display_data"
    },
    {
     "data": {
      "text/markdown": [
       "Intepretasi koefisien: Kedua kolom **berkorelasi positif**, tetapi ***negligible***."
      ],
      "text/plain": [
       "<IPython.core.display.Markdown object>"
      ]
     },
     "metadata": {},
     "output_type": "display_data"
    }
   ],
   "source": [
    "drawScatterPlot(\"Solids\", \"Potability\", df)"
   ]
  },
  {
   "cell_type": "markdown",
   "metadata": {},
   "source": [
    "***\n",
    "\n",
    "#### **Korelasi Potability dengan Chloramines**"
   ]
  },
  {
   "cell_type": "code",
   "execution_count": null,
   "metadata": {},
   "outputs": [
    {
     "data": {
      "image/png": "[encoded data removed]",
      "text/plain": [
       "<Figure size 1152x504 with 1 Axes>"
      ]
     },
     "metadata": {
      "needs_background": "light"
     },
     "output_type": "display_data"
    },
    {
     "data": {
      "text/markdown": [
       "Koefisien korelasi = 0.02077892184052408"
      ],
      "text/plain": [
       "<IPython.core.display.Markdown object>"
      ]
     },
     "metadata": {},
     "output_type": "display_data"
    },
    {
     "data": {
      "text/markdown": [
       "Intepretasi koefisien: Kedua kolom **berkorelasi positif**, tetapi ***negligible***."
      ],
      "text/plain": [
       "<IPython.core.display.Markdown object>"
      ]
     },
     "metadata": {},
     "output_type": "display_data"
    }
   ],
   "source": [
    "drawScatterPlot(\"Chloramines\", \"Potability\", df)"
   ]
  },
  {
   "cell_type": "markdown",
   "metadata": {},
   "source": [
    "***\n",
    "\n",
    "#### **Korelasi Potability dengan Sulfate**"
   ]
  },
  {
   "cell_type": "code",
   "execution_count": null,
   "metadata": {},
   "outputs": [
    {
     "data": {
      "image/png": "[encoded data removed]",
      "text/plain": [
       "<Figure size 1152x504 with 1 Axes>"
      ]
     },
     "metadata": {
      "needs_background": "light"
     },
     "output_type": "display_data"
    },
    {
     "data": {
      "text/markdown": [
       "Koefisien korelasi = -0.015703164419273816"
      ],
      "text/plain": [
       "<IPython.core.display.Markdown object>"
      ]
     },
     "metadata": {},
     "output_type": "display_data"
    },
    {
     "data": {
      "text/markdown": [
       "Intepretasi koefisien: Kedua kolom **berkorelasi negatif**, tetapi ***negligible***."
      ],
      "text/plain": [
       "<IPython.core.display.Markdown object>"
      ]
     },
     "metadata": {},
     "output_type": "display_data"
    }
   ],
   "source": [
    "drawScatterPlot(\"Sulfate\", \"Potability\", df)"
   ]
  },
  {
   "cell_type": "markdown",
   "metadata": {},
   "source": [
    "***\n",
    "\n",
    "#### **Korelasi Potability dengan Conductivity**"
   ]
  },
  {
   "cell_type": "code",
   "execution_count": null,
   "metadata": {},
   "outputs": [
    {
     "data": {
      "image/png": "[encoded data removed]",
      "text/plain": [
       "<Figure size 1152x504 with 1 Axes>"
      ]
     },
     "metadata": {
      "needs_background": "light"
     },
     "output_type": "display_data"
    },
    {
     "data": {
      "text/markdown": [
       "Koefisien korelasi = -0.016257120111377057"
      ],
      "text/plain": [
       "<IPython.core.display.Markdown object>"
      ]
     },
     "metadata": {},
     "output_type": "display_data"
    },
    {
     "data": {
      "text/markdown": [
       "Intepretasi koefisien: Kedua kolom **berkorelasi negatif**, tetapi ***negligible***."
      ],
      "text/plain": [
       "<IPython.core.display.Markdown object>"
      ]
     },
     "metadata": {},
     "output_type": "display_data"
    }
   ],
   "source": [
    "drawScatterPlot(\"Conductivity\", \"Potability\", df)"
   ]
  },
  {
   "cell_type": "markdown",
   "metadata": {},
   "source": [
    "***\n",
    "\n",
    "#### **Korelasi Potability dengan Organic Carbon**"
   ]
  },
  {
   "cell_type": "code",
   "execution_count": null,
   "metadata": {},
   "outputs": [
    {
     "data": {
      "image/png": "[encoded data removed]",
      "text/plain": [
       "<Figure size 1152x504 with 1 Axes>"
      ]
     },
     "metadata": {
      "needs_background": "light"
     },
     "output_type": "display_data"
    },
    {
     "data": {
      "text/markdown": [
       "Koefisien korelasi = -0.01548846191074729"
      ],
      "text/plain": [
       "<IPython.core.display.Markdown object>"
      ]
     },
     "metadata": {},
     "output_type": "display_data"
    },
    {
     "data": {
      "text/markdown": [
       "Intepretasi koefisien: Kedua kolom **berkorelasi negatif**, tetapi ***negligible***."
      ],
      "text/plain": [
       "<IPython.core.display.Markdown object>"
      ]
     },
     "metadata": {},
     "output_type": "display_data"
    }
   ],
   "source": [
    "drawScatterPlot(\"Organic Carbon\", \"Potability\", df)"
   ]
  },
  {
   "cell_type": "markdown",
   "metadata": {},
   "source": [
    "***\n",
    "\n",
    "#### **Korelasi Potability dengan Trihalomethanes**"
   ]
  },
  {
   "cell_type": "code",
   "execution_count": null,
   "metadata": {},
   "outputs": [
    {
     "data": {
      "image/png": "[encoded data removed]",
      "text/plain": [
       "<Figure size 1152x504 with 1 Axes>"
      ]
     },
     "metadata": {
      "needs_background": "light"
     },
     "output_type": "display_data"
    },
    {
     "data": {
      "text/markdown": [
       "Koefisien korelasi = 0.009236711064713047"
      ],
      "text/plain": [
       "<IPython.core.display.Markdown object>"
      ]
     },
     "metadata": {},
     "output_type": "display_data"
    },
    {
     "data": {
      "text/markdown": [
       "Intepretasi koefisien: Kedua kolom **berkorelasi positif**, tetapi ***negligible***."
      ],
      "text/plain": [
       "<IPython.core.display.Markdown object>"
      ]
     },
     "metadata": {},
     "output_type": "display_data"
    }
   ],
   "source": [
    "drawScatterPlot(\"Trihalomethanes\", \"Potability\", df)"
   ]
  },
  {
   "cell_type": "markdown",
   "metadata": {},
   "source": [
    "***\n",
    "\n",
    "#### **Korelasi Potability dengan Turbidity**"
   ]
  },
  {
   "cell_type": "code",
   "execution_count": null,
   "metadata": {},
   "outputs": [
    {
     "data": {
      "image/png": "[encoded data removed]",
      "text/plain": [
       "<Figure size 1152x504 with 1 Axes>"
      ]
     },
     "metadata": {
      "needs_background": "light"
     },
     "output_type": "display_data"
    },
    {
     "data": {
      "text/markdown": [
       "Koefisien korelasi = 0.0223310426406227"
      ],
      "text/plain": [
       "<IPython.core.display.Markdown object>"
      ]
     },
     "metadata": {},
     "output_type": "display_data"
    },
    {
     "data": {
      "text/markdown": [
       "Intepretasi koefisien: Kedua kolom **berkorelasi positif**, tetapi ***negligible***."
      ],
      "text/plain": [
       "<IPython.core.display.Markdown object>"
      ]
     },
     "metadata": {},
     "output_type": "display_data"
    }
   ],
   "source": [
    "drawScatterPlot(\"Turbidity\", \"Potability\", df)"
   ]
  },
  {
   "cell_type": "markdown",
   "metadata": {},
   "source": [
    "***"
   ]
  }
 ],
 "metadata": {
  "interpreter": {
   "hash": "11dc288d3529c67e78d2263326826e791416032fe05ceeb283e9ade39eefc4da"
  },
  "kernelspec": {
   "display_name": "Python 3.8.9 64-bit",
   "language": "python",
   "name": "python3"
  },
  "language_info": {
   "codemirror_mode": {
    "name": "ipython",
    "version": 3
   },
   "file_extension": ".py",
   "mimetype": "text/x-python",
   "name": "python",
   "nbconvert_exporter": "python",
   "pygments_lexer": "ipython3",
   "version": "3.8.10"
  },
  "orig_nbformat": 4
 },
 "nbformat": 4,
 "nbformat_minor": 2
}
