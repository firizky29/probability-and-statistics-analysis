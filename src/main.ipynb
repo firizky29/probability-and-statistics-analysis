{
 "cells": [
  {
   "cell_type": "code",
   "execution_count": null,
   "metadata": {},
   "outputs": [],
   "source": [
<<<<<<< HEAD
    "alskdjaslkdjasld"
=======
    "import csv"
>>>>>>> 7cffadee47673c9bd237940ecf9caaf79d1ae9d9
   ]
  }
 ],
 "metadata": {
  "language_info": {
   "name": "python"
  },
  "orig_nbformat": 4
 },
 "nbformat": 4,
 "nbformat_minor": 2
}
